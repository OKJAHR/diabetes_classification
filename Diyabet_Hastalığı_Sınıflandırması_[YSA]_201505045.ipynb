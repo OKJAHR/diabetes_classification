{
  "cells": [
    {
      "cell_type": "markdown",
      "metadata": {
        "id": "view-in-github",
        "colab_type": "text"
      },
      "source": [
        "<a href=\"https://colab.research.google.com/github/OKJAHR/diabetes_classification/blob/main/Diyabet_Hastal%C4%B1%C4%9F%C4%B1_S%C4%B1n%C4%B1fland%C4%B1rmas%C4%B1_%5BYSA%5D_201505045.ipynb\" target=\"_parent\"><img src=\"https://colab.research.google.com/assets/colab-badge.svg\" alt=\"Open In Colab\"/></a>"
      ]
    },
    {
      "cell_type": "code",
      "execution_count": 50,
      "id": "6fa20b4b",
      "metadata": {
        "execution": {
          "iopub.execute_input": "2022-10-15T05:25:37.581655Z",
          "iopub.status.busy": "2022-10-15T05:25:37.581019Z",
          "iopub.status.idle": "2022-10-15T05:25:39.652442Z",
          "shell.execute_reply": "2022-10-15T05:25:39.651209Z"
        },
        "id": "6fa20b4b",
        "papermill": {
          "duration": 2.088147,
          "end_time": "2022-10-15T05:25:39.655606",
          "exception": false,
          "start_time": "2022-10-15T05:25:37.567459",
          "status": "completed"
        },
        "tags": []
      },
      "outputs": [],
      "source": [
        "# Kütüphaneleri Çağırdık\n",
        "import pandas as pd \n",
        "import numpy as np\n",
        "import matplotlib.pyplot as plt\n",
        "import seaborn as sns \n",
        "import plotly.express as px"
      ]
    },
    {
      "cell_type": "code",
      "execution_count": 51,
      "id": "c59ffbe6",
      "metadata": {
        "execution": {
          "iopub.execute_input": "2022-10-15T05:25:39.698007Z",
          "iopub.status.busy": "2022-10-15T05:25:39.697211Z",
          "iopub.status.idle": "2022-10-15T05:25:39.738392Z",
          "shell.execute_reply": "2022-10-15T05:25:39.737197Z"
        },
        "id": "c59ffbe6",
        "outputId": "90b2a85d-593f-4383-a5b2-8424c2a1a0b6",
        "papermill": {
          "duration": 0.055227,
          "end_time": "2022-10-15T05:25:39.741021",
          "exception": false,
          "start_time": "2022-10-15T05:25:39.685794",
          "status": "completed"
        },
        "tags": [],
        "colab": {
          "base_uri": "https://localhost:8080/",
          "height": 206
        }
      },
      "outputs": [
        {
          "output_type": "execute_result",
          "data": {
            "text/plain": [
              "   Pregnancies  Glucose  BloodPressure  SkinThickness  Insulin   BMI  \\\n",
              "0            6      148             72             35        0  33.6   \n",
              "1            1       85             66             29        0  26.6   \n",
              "2            8      183             64              0        0  23.3   \n",
              "3            1       89             66             23       94  28.1   \n",
              "4            0      137             40             35      168  43.1   \n",
              "\n",
              "   DiabetesPedigreeFunction  Age  Outcome  \n",
              "0                     0.627   50        1  \n",
              "1                     0.351   31        0  \n",
              "2                     0.672   32        1  \n",
              "3                     0.167   21        0  \n",
              "4                     2.288   33        1  "
            ],
            "text/html": [
              "\n",
              "  <div id=\"df-0c452fef-e122-4f44-9d12-5d6731c902fb\">\n",
              "    <div class=\"colab-df-container\">\n",
              "      <div>\n",
              "<style scoped>\n",
              "    .dataframe tbody tr th:only-of-type {\n",
              "        vertical-align: middle;\n",
              "    }\n",
              "\n",
              "    .dataframe tbody tr th {\n",
              "        vertical-align: top;\n",
              "    }\n",
              "\n",
              "    .dataframe thead th {\n",
              "        text-align: right;\n",
              "    }\n",
              "</style>\n",
              "<table border=\"1\" class=\"dataframe\">\n",
              "  <thead>\n",
              "    <tr style=\"text-align: right;\">\n",
              "      <th></th>\n",
              "      <th>Pregnancies</th>\n",
              "      <th>Glucose</th>\n",
              "      <th>BloodPressure</th>\n",
              "      <th>SkinThickness</th>\n",
              "      <th>Insulin</th>\n",
              "      <th>BMI</th>\n",
              "      <th>DiabetesPedigreeFunction</th>\n",
              "      <th>Age</th>\n",
              "      <th>Outcome</th>\n",
              "    </tr>\n",
              "  </thead>\n",
              "  <tbody>\n",
              "    <tr>\n",
              "      <th>0</th>\n",
              "      <td>6</td>\n",
              "      <td>148</td>\n",
              "      <td>72</td>\n",
              "      <td>35</td>\n",
              "      <td>0</td>\n",
              "      <td>33.6</td>\n",
              "      <td>0.627</td>\n",
              "      <td>50</td>\n",
              "      <td>1</td>\n",
              "    </tr>\n",
              "    <tr>\n",
              "      <th>1</th>\n",
              "      <td>1</td>\n",
              "      <td>85</td>\n",
              "      <td>66</td>\n",
              "      <td>29</td>\n",
              "      <td>0</td>\n",
              "      <td>26.6</td>\n",
              "      <td>0.351</td>\n",
              "      <td>31</td>\n",
              "      <td>0</td>\n",
              "    </tr>\n",
              "    <tr>\n",
              "      <th>2</th>\n",
              "      <td>8</td>\n",
              "      <td>183</td>\n",
              "      <td>64</td>\n",
              "      <td>0</td>\n",
              "      <td>0</td>\n",
              "      <td>23.3</td>\n",
              "      <td>0.672</td>\n",
              "      <td>32</td>\n",
              "      <td>1</td>\n",
              "    </tr>\n",
              "    <tr>\n",
              "      <th>3</th>\n",
              "      <td>1</td>\n",
              "      <td>89</td>\n",
              "      <td>66</td>\n",
              "      <td>23</td>\n",
              "      <td>94</td>\n",
              "      <td>28.1</td>\n",
              "      <td>0.167</td>\n",
              "      <td>21</td>\n",
              "      <td>0</td>\n",
              "    </tr>\n",
              "    <tr>\n",
              "      <th>4</th>\n",
              "      <td>0</td>\n",
              "      <td>137</td>\n",
              "      <td>40</td>\n",
              "      <td>35</td>\n",
              "      <td>168</td>\n",
              "      <td>43.1</td>\n",
              "      <td>2.288</td>\n",
              "      <td>33</td>\n",
              "      <td>1</td>\n",
              "    </tr>\n",
              "  </tbody>\n",
              "</table>\n",
              "</div>\n",
              "      <button class=\"colab-df-convert\" onclick=\"convertToInteractive('df-0c452fef-e122-4f44-9d12-5d6731c902fb')\"\n",
              "              title=\"Convert this dataframe to an interactive table.\"\n",
              "              style=\"display:none;\">\n",
              "        \n",
              "  <svg xmlns=\"http://www.w3.org/2000/svg\" height=\"24px\"viewBox=\"0 0 24 24\"\n",
              "       width=\"24px\">\n",
              "    <path d=\"M0 0h24v24H0V0z\" fill=\"none\"/>\n",
              "    <path d=\"M18.56 5.44l.94 2.06.94-2.06 2.06-.94-2.06-.94-.94-2.06-.94 2.06-2.06.94zm-11 1L8.5 8.5l.94-2.06 2.06-.94-2.06-.94L8.5 2.5l-.94 2.06-2.06.94zm10 10l.94 2.06.94-2.06 2.06-.94-2.06-.94-.94-2.06-.94 2.06-2.06.94z\"/><path d=\"M17.41 7.96l-1.37-1.37c-.4-.4-.92-.59-1.43-.59-.52 0-1.04.2-1.43.59L10.3 9.45l-7.72 7.72c-.78.78-.78 2.05 0 2.83L4 21.41c.39.39.9.59 1.41.59.51 0 1.02-.2 1.41-.59l7.78-7.78 2.81-2.81c.8-.78.8-2.07 0-2.86zM5.41 20L4 18.59l7.72-7.72 1.47 1.35L5.41 20z\"/>\n",
              "  </svg>\n",
              "      </button>\n",
              "      \n",
              "  <style>\n",
              "    .colab-df-container {\n",
              "      display:flex;\n",
              "      flex-wrap:wrap;\n",
              "      gap: 12px;\n",
              "    }\n",
              "\n",
              "    .colab-df-convert {\n",
              "      background-color: #E8F0FE;\n",
              "      border: none;\n",
              "      border-radius: 50%;\n",
              "      cursor: pointer;\n",
              "      display: none;\n",
              "      fill: #1967D2;\n",
              "      height: 32px;\n",
              "      padding: 0 0 0 0;\n",
              "      width: 32px;\n",
              "    }\n",
              "\n",
              "    .colab-df-convert:hover {\n",
              "      background-color: #E2EBFA;\n",
              "      box-shadow: 0px 1px 2px rgba(60, 64, 67, 0.3), 0px 1px 3px 1px rgba(60, 64, 67, 0.15);\n",
              "      fill: #174EA6;\n",
              "    }\n",
              "\n",
              "    [theme=dark] .colab-df-convert {\n",
              "      background-color: #3B4455;\n",
              "      fill: #D2E3FC;\n",
              "    }\n",
              "\n",
              "    [theme=dark] .colab-df-convert:hover {\n",
              "      background-color: #434B5C;\n",
              "      box-shadow: 0px 1px 3px 1px rgba(0, 0, 0, 0.15);\n",
              "      filter: drop-shadow(0px 1px 2px rgba(0, 0, 0, 0.3));\n",
              "      fill: #FFFFFF;\n",
              "    }\n",
              "  </style>\n",
              "\n",
              "      <script>\n",
              "        const buttonEl =\n",
              "          document.querySelector('#df-0c452fef-e122-4f44-9d12-5d6731c902fb button.colab-df-convert');\n",
              "        buttonEl.style.display =\n",
              "          google.colab.kernel.accessAllowed ? 'block' : 'none';\n",
              "\n",
              "        async function convertToInteractive(key) {\n",
              "          const element = document.querySelector('#df-0c452fef-e122-4f44-9d12-5d6731c902fb');\n",
              "          const dataTable =\n",
              "            await google.colab.kernel.invokeFunction('convertToInteractive',\n",
              "                                                     [key], {});\n",
              "          if (!dataTable) return;\n",
              "\n",
              "          const docLinkHtml = 'Like what you see? Visit the ' +\n",
              "            '<a target=\"_blank\" href=https://colab.research.google.com/notebooks/data_table.ipynb>data table notebook</a>'\n",
              "            + ' to learn more about interactive tables.';\n",
              "          element.innerHTML = '';\n",
              "          dataTable['output_type'] = 'display_data';\n",
              "          await google.colab.output.renderOutput(dataTable, element);\n",
              "          const docLink = document.createElement('div');\n",
              "          docLink.innerHTML = docLinkHtml;\n",
              "          element.appendChild(docLink);\n",
              "        }\n",
              "      </script>\n",
              "    </div>\n",
              "  </div>\n",
              "  "
            ]
          },
          "metadata": {},
          "execution_count": 51
        }
      ],
      "source": [
        "# Verimizi yükleyip çağırdık\n",
        "data=pd.read_csv('/content/diabetes.csv')\n",
        "data.head()"
      ]
    },
    {
      "cell_type": "code",
      "execution_count": 52,
      "id": "ac5486fb",
      "metadata": {
        "execution": {
          "iopub.execute_input": "2022-10-15T05:25:39.827420Z",
          "iopub.status.busy": "2022-10-15T05:25:39.826727Z",
          "iopub.status.idle": "2022-10-15T05:25:39.834670Z",
          "shell.execute_reply": "2022-10-15T05:25:39.833510Z"
        },
        "id": "ac5486fb",
        "outputId": "b7890bc6-7d1d-4599-c402-0e32c090bb8e",
        "papermill": {
          "duration": 0.021838,
          "end_time": "2022-10-15T05:25:39.836823",
          "exception": false,
          "start_time": "2022-10-15T05:25:39.814985",
          "status": "completed"
        },
        "tags": [],
        "colab": {
          "base_uri": "https://localhost:8080/"
        }
      },
      "outputs": [
        {
          "output_type": "execute_result",
          "data": {
            "text/plain": [
              "Index(['Pregnancies', 'Glucose', 'BloodPressure', 'SkinThickness', 'Insulin',\n",
              "       'BMI', 'DiabetesPedigreeFunction', 'Age', 'Outcome'],\n",
              "      dtype='object')"
            ]
          },
          "metadata": {},
          "execution_count": 52
        }
      ],
      "source": [
        "# Veriyi inceleyelim\n",
        "data.columns"
      ]
    },
    {
      "cell_type": "code",
      "execution_count": 53,
      "id": "641e14b2",
      "metadata": {
        "execution": {
          "iopub.execute_input": "2022-10-15T05:25:39.859761Z",
          "iopub.status.busy": "2022-10-15T05:25:39.859060Z",
          "iopub.status.idle": "2022-10-15T05:25:39.867295Z",
          "shell.execute_reply": "2022-10-15T05:25:39.866200Z"
        },
        "id": "641e14b2",
        "outputId": "c0508a99-77a3-423b-8f5b-efa4e193f152",
        "papermill": {
          "duration": 0.022308,
          "end_time": "2022-10-15T05:25:39.869434",
          "exception": false,
          "start_time": "2022-10-15T05:25:39.847126",
          "status": "completed"
        },
        "tags": [],
        "colab": {
          "base_uri": "https://localhost:8080/"
        }
      },
      "outputs": [
        {
          "output_type": "execute_result",
          "data": {
            "text/plain": [
              "Pregnancies                   int64\n",
              "Glucose                       int64\n",
              "BloodPressure                 int64\n",
              "SkinThickness                 int64\n",
              "Insulin                       int64\n",
              "BMI                         float64\n",
              "DiabetesPedigreeFunction    float64\n",
              "Age                           int64\n",
              "Outcome                       int64\n",
              "dtype: object"
            ]
          },
          "metadata": {},
          "execution_count": 53
        }
      ],
      "source": [
        "data.dtypes"
      ]
    },
    {
      "cell_type": "code",
      "execution_count": 54,
      "id": "d30a1569",
      "metadata": {
        "execution": {
          "iopub.execute_input": "2022-10-15T05:25:39.892768Z",
          "iopub.status.busy": "2022-10-15T05:25:39.892070Z",
          "iopub.status.idle": "2022-10-15T05:25:39.914056Z",
          "shell.execute_reply": "2022-10-15T05:25:39.912457Z"
        },
        "id": "d30a1569",
        "outputId": "412aeb2d-2b14-4833-e009-df6a02315baf",
        "papermill": {
          "duration": 0.037512,
          "end_time": "2022-10-15T05:25:39.917461",
          "exception": false,
          "start_time": "2022-10-15T05:25:39.879949",
          "status": "completed"
        },
        "tags": [],
        "colab": {
          "base_uri": "https://localhost:8080/"
        }
      },
      "outputs": [
        {
          "output_type": "stream",
          "name": "stdout",
          "text": [
            "<class 'pandas.core.frame.DataFrame'>\n",
            "RangeIndex: 768 entries, 0 to 767\n",
            "Data columns (total 9 columns):\n",
            " #   Column                    Non-Null Count  Dtype  \n",
            "---  ------                    --------------  -----  \n",
            " 0   Pregnancies               768 non-null    int64  \n",
            " 1   Glucose                   768 non-null    int64  \n",
            " 2   BloodPressure             768 non-null    int64  \n",
            " 3   SkinThickness             768 non-null    int64  \n",
            " 4   Insulin                   768 non-null    int64  \n",
            " 5   BMI                       768 non-null    float64\n",
            " 6   DiabetesPedigreeFunction  768 non-null    float64\n",
            " 7   Age                       768 non-null    int64  \n",
            " 8   Outcome                   768 non-null    int64  \n",
            "dtypes: float64(2), int64(7)\n",
            "memory usage: 54.1 KB\n"
          ]
        }
      ],
      "source": [
        "data.info()"
      ]
    },
    {
      "cell_type": "code",
      "execution_count": 55,
      "id": "c2103b6c",
      "metadata": {
        "execution": {
          "iopub.execute_input": "2022-10-15T05:25:39.940921Z",
          "iopub.status.busy": "2022-10-15T05:25:39.940533Z",
          "iopub.status.idle": "2022-10-15T05:25:40.058475Z",
          "shell.execute_reply": "2022-10-15T05:25:40.057401Z"
        },
        "id": "c2103b6c",
        "outputId": "ab6274f0-5351-4805-8ca9-883d744a1a86",
        "papermill": {
          "duration": 0.133635,
          "end_time": "2022-10-15T05:25:40.062120",
          "exception": false,
          "start_time": "2022-10-15T05:25:39.928485",
          "status": "completed"
        },
        "tags": [],
        "colab": {
          "base_uri": "https://localhost:8080/",
          "height": 300
        }
      },
      "outputs": [
        {
          "output_type": "execute_result",
          "data": {
            "text/plain": [
              "       Pregnancies     Glucose  BloodPressure  SkinThickness     Insulin  \\\n",
              "count   768.000000  768.000000     768.000000     768.000000  768.000000   \n",
              "mean      3.845052  120.894531      69.105469      20.536458   79.799479   \n",
              "std       3.369578   31.972618      19.355807      15.952218  115.244002   \n",
              "min       0.000000    0.000000       0.000000       0.000000    0.000000   \n",
              "25%       1.000000   99.000000      62.000000       0.000000    0.000000   \n",
              "50%       3.000000  117.000000      72.000000      23.000000   30.500000   \n",
              "75%       6.000000  140.250000      80.000000      32.000000  127.250000   \n",
              "max      17.000000  199.000000     122.000000      99.000000  846.000000   \n",
              "\n",
              "              BMI  DiabetesPedigreeFunction         Age     Outcome  \n",
              "count  768.000000                768.000000  768.000000  768.000000  \n",
              "mean    31.992578                  0.471876   33.240885    0.348958  \n",
              "std      7.884160                  0.331329   11.760232    0.476951  \n",
              "min      0.000000                  0.078000   21.000000    0.000000  \n",
              "25%     27.300000                  0.243750   24.000000    0.000000  \n",
              "50%     32.000000                  0.372500   29.000000    0.000000  \n",
              "75%     36.600000                  0.626250   41.000000    1.000000  \n",
              "max     67.100000                  2.420000   81.000000    1.000000  "
            ],
            "text/html": [
              "\n",
              "  <div id=\"df-9ee0df4f-f13f-451a-b88c-76b427261ac7\">\n",
              "    <div class=\"colab-df-container\">\n",
              "      <div>\n",
              "<style scoped>\n",
              "    .dataframe tbody tr th:only-of-type {\n",
              "        vertical-align: middle;\n",
              "    }\n",
              "\n",
              "    .dataframe tbody tr th {\n",
              "        vertical-align: top;\n",
              "    }\n",
              "\n",
              "    .dataframe thead th {\n",
              "        text-align: right;\n",
              "    }\n",
              "</style>\n",
              "<table border=\"1\" class=\"dataframe\">\n",
              "  <thead>\n",
              "    <tr style=\"text-align: right;\">\n",
              "      <th></th>\n",
              "      <th>Pregnancies</th>\n",
              "      <th>Glucose</th>\n",
              "      <th>BloodPressure</th>\n",
              "      <th>SkinThickness</th>\n",
              "      <th>Insulin</th>\n",
              "      <th>BMI</th>\n",
              "      <th>DiabetesPedigreeFunction</th>\n",
              "      <th>Age</th>\n",
              "      <th>Outcome</th>\n",
              "    </tr>\n",
              "  </thead>\n",
              "  <tbody>\n",
              "    <tr>\n",
              "      <th>count</th>\n",
              "      <td>768.000000</td>\n",
              "      <td>768.000000</td>\n",
              "      <td>768.000000</td>\n",
              "      <td>768.000000</td>\n",
              "      <td>768.000000</td>\n",
              "      <td>768.000000</td>\n",
              "      <td>768.000000</td>\n",
              "      <td>768.000000</td>\n",
              "      <td>768.000000</td>\n",
              "    </tr>\n",
              "    <tr>\n",
              "      <th>mean</th>\n",
              "      <td>3.845052</td>\n",
              "      <td>120.894531</td>\n",
              "      <td>69.105469</td>\n",
              "      <td>20.536458</td>\n",
              "      <td>79.799479</td>\n",
              "      <td>31.992578</td>\n",
              "      <td>0.471876</td>\n",
              "      <td>33.240885</td>\n",
              "      <td>0.348958</td>\n",
              "    </tr>\n",
              "    <tr>\n",
              "      <th>std</th>\n",
              "      <td>3.369578</td>\n",
              "      <td>31.972618</td>\n",
              "      <td>19.355807</td>\n",
              "      <td>15.952218</td>\n",
              "      <td>115.244002</td>\n",
              "      <td>7.884160</td>\n",
              "      <td>0.331329</td>\n",
              "      <td>11.760232</td>\n",
              "      <td>0.476951</td>\n",
              "    </tr>\n",
              "    <tr>\n",
              "      <th>min</th>\n",
              "      <td>0.000000</td>\n",
              "      <td>0.000000</td>\n",
              "      <td>0.000000</td>\n",
              "      <td>0.000000</td>\n",
              "      <td>0.000000</td>\n",
              "      <td>0.000000</td>\n",
              "      <td>0.078000</td>\n",
              "      <td>21.000000</td>\n",
              "      <td>0.000000</td>\n",
              "    </tr>\n",
              "    <tr>\n",
              "      <th>25%</th>\n",
              "      <td>1.000000</td>\n",
              "      <td>99.000000</td>\n",
              "      <td>62.000000</td>\n",
              "      <td>0.000000</td>\n",
              "      <td>0.000000</td>\n",
              "      <td>27.300000</td>\n",
              "      <td>0.243750</td>\n",
              "      <td>24.000000</td>\n",
              "      <td>0.000000</td>\n",
              "    </tr>\n",
              "    <tr>\n",
              "      <th>50%</th>\n",
              "      <td>3.000000</td>\n",
              "      <td>117.000000</td>\n",
              "      <td>72.000000</td>\n",
              "      <td>23.000000</td>\n",
              "      <td>30.500000</td>\n",
              "      <td>32.000000</td>\n",
              "      <td>0.372500</td>\n",
              "      <td>29.000000</td>\n",
              "      <td>0.000000</td>\n",
              "    </tr>\n",
              "    <tr>\n",
              "      <th>75%</th>\n",
              "      <td>6.000000</td>\n",
              "      <td>140.250000</td>\n",
              "      <td>80.000000</td>\n",
              "      <td>32.000000</td>\n",
              "      <td>127.250000</td>\n",
              "      <td>36.600000</td>\n",
              "      <td>0.626250</td>\n",
              "      <td>41.000000</td>\n",
              "      <td>1.000000</td>\n",
              "    </tr>\n",
              "    <tr>\n",
              "      <th>max</th>\n",
              "      <td>17.000000</td>\n",
              "      <td>199.000000</td>\n",
              "      <td>122.000000</td>\n",
              "      <td>99.000000</td>\n",
              "      <td>846.000000</td>\n",
              "      <td>67.100000</td>\n",
              "      <td>2.420000</td>\n",
              "      <td>81.000000</td>\n",
              "      <td>1.000000</td>\n",
              "    </tr>\n",
              "  </tbody>\n",
              "</table>\n",
              "</div>\n",
              "      <button class=\"colab-df-convert\" onclick=\"convertToInteractive('df-9ee0df4f-f13f-451a-b88c-76b427261ac7')\"\n",
              "              title=\"Convert this dataframe to an interactive table.\"\n",
              "              style=\"display:none;\">\n",
              "        \n",
              "  <svg xmlns=\"http://www.w3.org/2000/svg\" height=\"24px\"viewBox=\"0 0 24 24\"\n",
              "       width=\"24px\">\n",
              "    <path d=\"M0 0h24v24H0V0z\" fill=\"none\"/>\n",
              "    <path d=\"M18.56 5.44l.94 2.06.94-2.06 2.06-.94-2.06-.94-.94-2.06-.94 2.06-2.06.94zm-11 1L8.5 8.5l.94-2.06 2.06-.94-2.06-.94L8.5 2.5l-.94 2.06-2.06.94zm10 10l.94 2.06.94-2.06 2.06-.94-2.06-.94-.94-2.06-.94 2.06-2.06.94z\"/><path d=\"M17.41 7.96l-1.37-1.37c-.4-.4-.92-.59-1.43-.59-.52 0-1.04.2-1.43.59L10.3 9.45l-7.72 7.72c-.78.78-.78 2.05 0 2.83L4 21.41c.39.39.9.59 1.41.59.51 0 1.02-.2 1.41-.59l7.78-7.78 2.81-2.81c.8-.78.8-2.07 0-2.86zM5.41 20L4 18.59l7.72-7.72 1.47 1.35L5.41 20z\"/>\n",
              "  </svg>\n",
              "      </button>\n",
              "      \n",
              "  <style>\n",
              "    .colab-df-container {\n",
              "      display:flex;\n",
              "      flex-wrap:wrap;\n",
              "      gap: 12px;\n",
              "    }\n",
              "\n",
              "    .colab-df-convert {\n",
              "      background-color: #E8F0FE;\n",
              "      border: none;\n",
              "      border-radius: 50%;\n",
              "      cursor: pointer;\n",
              "      display: none;\n",
              "      fill: #1967D2;\n",
              "      height: 32px;\n",
              "      padding: 0 0 0 0;\n",
              "      width: 32px;\n",
              "    }\n",
              "\n",
              "    .colab-df-convert:hover {\n",
              "      background-color: #E2EBFA;\n",
              "      box-shadow: 0px 1px 2px rgba(60, 64, 67, 0.3), 0px 1px 3px 1px rgba(60, 64, 67, 0.15);\n",
              "      fill: #174EA6;\n",
              "    }\n",
              "\n",
              "    [theme=dark] .colab-df-convert {\n",
              "      background-color: #3B4455;\n",
              "      fill: #D2E3FC;\n",
              "    }\n",
              "\n",
              "    [theme=dark] .colab-df-convert:hover {\n",
              "      background-color: #434B5C;\n",
              "      box-shadow: 0px 1px 3px 1px rgba(0, 0, 0, 0.15);\n",
              "      filter: drop-shadow(0px 1px 2px rgba(0, 0, 0, 0.3));\n",
              "      fill: #FFFFFF;\n",
              "    }\n",
              "  </style>\n",
              "\n",
              "      <script>\n",
              "        const buttonEl =\n",
              "          document.querySelector('#df-9ee0df4f-f13f-451a-b88c-76b427261ac7 button.colab-df-convert');\n",
              "        buttonEl.style.display =\n",
              "          google.colab.kernel.accessAllowed ? 'block' : 'none';\n",
              "\n",
              "        async function convertToInteractive(key) {\n",
              "          const element = document.querySelector('#df-9ee0df4f-f13f-451a-b88c-76b427261ac7');\n",
              "          const dataTable =\n",
              "            await google.colab.kernel.invokeFunction('convertToInteractive',\n",
              "                                                     [key], {});\n",
              "          if (!dataTable) return;\n",
              "\n",
              "          const docLinkHtml = 'Like what you see? Visit the ' +\n",
              "            '<a target=\"_blank\" href=https://colab.research.google.com/notebooks/data_table.ipynb>data table notebook</a>'\n",
              "            + ' to learn more about interactive tables.';\n",
              "          element.innerHTML = '';\n",
              "          dataTable['output_type'] = 'display_data';\n",
              "          await google.colab.output.renderOutput(dataTable, element);\n",
              "          const docLink = document.createElement('div');\n",
              "          docLink.innerHTML = docLinkHtml;\n",
              "          element.appendChild(docLink);\n",
              "        }\n",
              "      </script>\n",
              "    </div>\n",
              "  </div>\n",
              "  "
            ]
          },
          "metadata": {},
          "execution_count": 55
        }
      ],
      "source": [
        "data.describe()"
      ]
    },
    {
      "cell_type": "code",
      "execution_count": 56,
      "id": "147bd16d",
      "metadata": {
        "execution": {
          "iopub.execute_input": "2022-10-15T05:25:40.087053Z",
          "iopub.status.busy": "2022-10-15T05:25:40.086662Z",
          "iopub.status.idle": "2022-10-15T05:25:40.095860Z",
          "shell.execute_reply": "2022-10-15T05:25:40.094773Z"
        },
        "id": "147bd16d",
        "outputId": "859dd9e2-e8b7-4c58-bfff-4b18b477f24c",
        "papermill": {
          "duration": 0.024309,
          "end_time": "2022-10-15T05:25:40.098158",
          "exception": false,
          "start_time": "2022-10-15T05:25:40.073849",
          "status": "completed"
        },
        "tags": [],
        "colab": {
          "base_uri": "https://localhost:8080/"
        }
      },
      "outputs": [
        {
          "output_type": "execute_result",
          "data": {
            "text/plain": [
              "Pregnancies                 0\n",
              "Glucose                     0\n",
              "BloodPressure               0\n",
              "SkinThickness               0\n",
              "Insulin                     0\n",
              "BMI                         0\n",
              "DiabetesPedigreeFunction    0\n",
              "Age                         0\n",
              "Outcome                     0\n",
              "dtype: int64"
            ]
          },
          "metadata": {},
          "execution_count": 56
        }
      ],
      "source": [
        "data.isnull().sum()"
      ]
    },
    {
      "cell_type": "code",
      "execution_count": 57,
      "id": "2c41a10c",
      "metadata": {
        "execution": {
          "iopub.execute_input": "2022-10-15T05:25:40.123179Z",
          "iopub.status.busy": "2022-10-15T05:25:40.122071Z",
          "iopub.status.idle": "2022-10-15T05:25:40.133505Z",
          "shell.execute_reply": "2022-10-15T05:25:40.132306Z"
        },
        "id": "2c41a10c",
        "outputId": "41120829-864f-4be5-c2c1-7548c99bdd5e",
        "papermill": {
          "duration": 0.026485,
          "end_time": "2022-10-15T05:25:40.135855",
          "exception": false,
          "start_time": "2022-10-15T05:25:40.109370",
          "status": "completed"
        },
        "tags": [],
        "colab": {
          "base_uri": "https://localhost:8080/"
        }
      },
      "outputs": [
        {
          "output_type": "execute_result",
          "data": {
            "text/plain": [
              "0"
            ]
          },
          "metadata": {},
          "execution_count": 57
        }
      ],
      "source": [
        "data.duplicated().sum()"
      ]
    },
    {
      "cell_type": "code",
      "execution_count": 58,
      "id": "51b65f34",
      "metadata": {
        "execution": {
          "iopub.execute_input": "2022-10-15T05:25:40.184713Z",
          "iopub.status.busy": "2022-10-15T05:25:40.183713Z",
          "iopub.status.idle": "2022-10-15T05:25:40.564129Z",
          "shell.execute_reply": "2022-10-15T05:25:40.562914Z"
        },
        "id": "51b65f34",
        "outputId": "84d0e1dd-1564-4701-8120-1f34af6cc362",
        "papermill": {
          "duration": 0.396055,
          "end_time": "2022-10-15T05:25:40.566636",
          "exception": false,
          "start_time": "2022-10-15T05:25:40.170581",
          "status": "completed"
        },
        "tags": [],
        "colab": {
          "base_uri": "https://localhost:8080/",
          "height": 716
        }
      },
      "outputs": [
        {
          "output_type": "stream",
          "name": "stderr",
          "text": [
            "<ipython-input-58-54c25bc56c1a>:2: DeprecationWarning:\n",
            "\n",
            "`np.bool` is a deprecated alias for the builtin `bool`. To silence this warning, use `bool` by itself. Doing this will not modify any behavior and is safe. If you specifically wanted the numpy scalar type, use `np.bool_` here.\n",
            "Deprecated in NumPy 1.20; for more details and guidance: https://numpy.org/devdocs/release/1.20.0-notes.html#deprecations\n",
            "\n"
          ]
        },
        {
          "output_type": "execute_result",
          "data": {
            "text/plain": [
              "<Axes: >"
            ]
          },
          "metadata": {},
          "execution_count": 58
        },
        {
          "output_type": "display_data",
          "data": {
            "text/plain": [
              "<Figure size 700x500 with 2 Axes>"
            ],
            "image/png": "[encoded data removed]"
          },
          "metadata": {}
        }
      ],
      "source": [
        "corr=data.corr()\n",
        "mask = np.zeros_like(corr, dtype=np.bool)\n",
        "mask[np.triu_indices_from(mask)] = True\n",
        "f, ax = plt.subplots(figsize=(7, 5))\n",
        "cmap = sns.diverging_palette(220, 10, as_cmap=True)\n",
        "sns.heatmap(corr, mask=mask, cmap=cmap, vmax=.5, center=0, linewidths=.5, cbar_kws={\"shrink\": .5})"
      ]
    },
    {
      "cell_type": "code",
      "execution_count": 59,
      "id": "6d2d2db4",
      "metadata": {
        "execution": {
          "iopub.execute_input": "2022-10-15T05:25:40.592249Z",
          "iopub.status.busy": "2022-10-15T05:25:40.591827Z",
          "iopub.status.idle": "2022-10-15T05:25:41.648025Z",
          "shell.execute_reply": "2022-10-15T05:25:41.646902Z"
        },
        "id": "6d2d2db4",
        "outputId": "3523aac4-8f75-4c32-be68-b38516d026c2",
        "papermill": {
          "duration": 1.072042,
          "end_time": "2022-10-15T05:25:41.650699",
          "exception": false,
          "start_time": "2022-10-15T05:25:40.578657",
          "status": "completed"
        },
        "tags": [],
        "colab": {
          "base_uri": "https://localhost:8080/",
          "height": 417
        }
      },
      "outputs": [
        {
          "output_type": "display_data",
          "data": {
            "text/html": [
              "<html>\n",
              "<head><meta charset=\"utf-8\" /></head>\n",
              "<body>\n",
              "    <div>            <script src=\"https://cdnjs.cloudflare.com/ajax/libs/mathjax/2.7.5/MathJax.js?config=TeX-AMS-MML_SVG\"></script><script type=\"text/javascript\">if (window.MathJax && window.MathJax.Hub && window.MathJax.Hub.Config) {window.MathJax.Hub.Config({SVG: {font: \"STIX-Web\"}});}</script>                <script type=\"text/javascript\">window.PlotlyConfig = {MathJaxConfig: 'local'};</script>\n",
              "        <script src=\"https://cdn.plot.ly/plotly-2.18.2.min.js\"></script>                <div id=\"e598d48b-61d7-4fe7-8b1c-28226609dcb8\" class=\"plotly-graph-div\" style=\"height:400px; width:800px;\"></div>            <script type=\"text/javascript\">                                    window.PLOTLYENV=window.PLOTLYENV || {};                                    if (document.getElementById(\"e598d48b-61d7-4fe7-8b1c-28226609dcb8\")) {                    Plotly.newPlot(                        \"e598d48b-61d7-4fe7-8b1c-28226609dcb8\",                        [{\"domain\":{\"x\":[0.0,1.0],\"y\":[0.0,1.0]},\"hovertemplate\":\"label=%{label}<br>value=%{value}<extra></extra>\",\"labels\":[\"Diyabeti yok\",\"Diyabeti var\"],\"legendgroup\":\"\",\"name\":\"\",\"showlegend\":true,\"values\":[500,268],\"type\":\"pie\"}],                        {\"template\":{\"data\":{\"histogram2dcontour\":[{\"type\":\"histogram2dcontour\",\"colorbar\":{\"outlinewidth\":0,\"ticks\":\"\"},\"colorscale\":[[0.0,\"#0d0887\"],[0.1111111111111111,\"#46039f\"],[0.2222222222222222,\"#7201a8\"],[0.3333333333333333,\"#9c179e\"],[0.4444444444444444,\"#bd3786\"],[0.5555555555555556,\"#d8576b\"],[0.6666666666666666,\"#ed7953\"],[0.7777777777777778,\"#fb9f3a\"],[0.8888888888888888,\"#fdca26\"],[1.0,\"#f0f921\"]]}],\"choropleth\":[{\"type\":\"choropleth\",\"colorbar\":{\"outlinewidth\":0,\"ticks\":\"\"}}],\"histogram2d\":[{\"type\":\"histogram2d\",\"colorbar\":{\"outlinewidth\":0,\"ticks\":\"\"},\"colorscale\":[[0.0,\"#0d0887\"],[0.1111111111111111,\"#46039f\"],[0.2222222222222222,\"#7201a8\"],[0.3333333333333333,\"#9c179e\"],[0.4444444444444444,\"#bd3786\"],[0.5555555555555556,\"#d8576b\"],[0.6666666666666666,\"#ed7953\"],[0.7777777777777778,\"#fb9f3a\"],[0.8888888888888888,\"#fdca26\"],[1.0,\"#f0f921\"]]}],\"heatmap\":[{\"type\":\"heatmap\",\"colorbar\":{\"outlinewidth\":0,\"ticks\":\"\"},\"colorscale\":[[0.0,\"#0d0887\"],[0.1111111111111111,\"#46039f\"],[0.2222222222222222,\"#7201a8\"],[0.3333333333333333,\"#9c179e\"],[0.4444444444444444,\"#bd3786\"],[0.5555555555555556,\"#d8576b\"],[0.6666666666666666,\"#ed7953\"],[0.7777777777777778,\"#fb9f3a\"],[0.8888888888888888,\"#fdca26\"],[1.0,\"#f0f921\"]]}],\"heatmapgl\":[{\"type\":\"heatmapgl\",\"colorbar\":{\"outlinewidth\":0,\"ticks\":\"\"},\"colorscale\":[[0.0,\"#0d0887\"],[0.1111111111111111,\"#46039f\"],[0.2222222222222222,\"#7201a8\"],[0.3333333333333333,\"#9c179e\"],[0.4444444444444444,\"#bd3786\"],[0.5555555555555556,\"#d8576b\"],[0.6666666666666666,\"#ed7953\"],[0.7777777777777778,\"#fb9f3a\"],[0.8888888888888888,\"#fdca26\"],[1.0,\"#f0f921\"]]}],\"contourcarpet\":[{\"type\":\"contourcarpet\",\"colorbar\":{\"outlinewidth\":0,\"ticks\":\"\"}}],\"contour\":[{\"type\":\"contour\",\"colorbar\":{\"outlinewidth\":0,\"ticks\":\"\"},\"colorscale\":[[0.0,\"#0d0887\"],[0.1111111111111111,\"#46039f\"],[0.2222222222222222,\"#7201a8\"],[0.3333333333333333,\"#9c179e\"],[0.4444444444444444,\"#bd3786\"],[0.5555555555555556,\"#d8576b\"],[0.6666666666666666,\"#ed7953\"],[0.7777777777777778,\"#fb9f3a\"],[0.8888888888888888,\"#fdca26\"],[1.0,\"#f0f921\"]]}],\"surface\":[{\"type\":\"surface\",\"colorbar\":{\"outlinewidth\":0,\"ticks\":\"\"},\"colorscale\":[[0.0,\"#0d0887\"],[0.1111111111111111,\"#46039f\"],[0.2222222222222222,\"#7201a8\"],[0.3333333333333333,\"#9c179e\"],[0.4444444444444444,\"#bd3786\"],[0.5555555555555556,\"#d8576b\"],[0.6666666666666666,\"#ed7953\"],[0.7777777777777778,\"#fb9f3a\"],[0.8888888888888888,\"#fdca26\"],[1.0,\"#f0f921\"]]}],\"mesh3d\":[{\"type\":\"mesh3d\",\"colorbar\":{\"outlinewidth\":0,\"ticks\":\"\"}}],\"scatter\":[{\"fillpattern\":{\"fillmode\":\"overlay\",\"size\":10,\"solidity\":0.2},\"type\":\"scatter\"}],\"parcoords\":[{\"type\":\"parcoords\",\"line\":{\"colorbar\":{\"outlinewidth\":0,\"ticks\":\"\"}}}],\"scatterpolargl\":[{\"type\":\"scatterpolargl\",\"marker\":{\"colorbar\":{\"outlinewidth\":0,\"ticks\":\"\"}}}],\"bar\":[{\"error_x\":{\"color\":\"#2a3f5f\"},\"error_y\":{\"color\":\"#2a3f5f\"},\"marker\":{\"line\":{\"color\":\"#E5ECF6\",\"width\":0.5},\"pattern\":{\"fillmode\":\"overlay\",\"size\":10,\"solidity\":0.2}},\"type\":\"bar\"}],\"scattergeo\":[{\"type\":\"scattergeo\",\"marker\":{\"colorbar\":{\"outlinewidth\":0,\"ticks\":\"\"}}}],\"scatterpolar\":[{\"type\":\"scatterpolar\",\"marker\":{\"colorbar\":{\"outlinewidth\":0,\"ticks\":\"\"}}}],\"histogram\":[{\"marker\":{\"pattern\":{\"fillmode\":\"overlay\",\"size\":10,\"solidity\":0.2}},\"type\":\"histogram\"}],\"scattergl\":[{\"type\":\"scattergl\",\"marker\":{\"colorbar\":{\"outlinewidth\":0,\"ticks\":\"\"}}}],\"scatter3d\":[{\"type\":\"scatter3d\",\"line\":{\"colorbar\":{\"outlinewidth\":0,\"ticks\":\"\"}},\"marker\":{\"colorbar\":{\"outlinewidth\":0,\"ticks\":\"\"}}}],\"scattermapbox\":[{\"type\":\"scattermapbox\",\"marker\":{\"colorbar\":{\"outlinewidth\":0,\"ticks\":\"\"}}}],\"scatterternary\":[{\"type\":\"scatterternary\",\"marker\":{\"colorbar\":{\"outlinewidth\":0,\"ticks\":\"\"}}}],\"scattercarpet\":[{\"type\":\"scattercarpet\",\"marker\":{\"colorbar\":{\"outlinewidth\":0,\"ticks\":\"\"}}}],\"carpet\":[{\"aaxis\":{\"endlinecolor\":\"#2a3f5f\",\"gridcolor\":\"white\",\"linecolor\":\"white\",\"minorgridcolor\":\"white\",\"startlinecolor\":\"#2a3f5f\"},\"baxis\":{\"endlinecolor\":\"#2a3f5f\",\"gridcolor\":\"white\",\"linecolor\":\"white\",\"minorgridcolor\":\"white\",\"startlinecolor\":\"#2a3f5f\"},\"type\":\"carpet\"}],\"table\":[{\"cells\":{\"fill\":{\"color\":\"#EBF0F8\"},\"line\":{\"color\":\"white\"}},\"header\":{\"fill\":{\"color\":\"#C8D4E3\"},\"line\":{\"color\":\"white\"}},\"type\":\"table\"}],\"barpolar\":[{\"marker\":{\"line\":{\"color\":\"#E5ECF6\",\"width\":0.5},\"pattern\":{\"fillmode\":\"overlay\",\"size\":10,\"solidity\":0.2}},\"type\":\"barpolar\"}],\"pie\":[{\"automargin\":true,\"type\":\"pie\"}]},\"layout\":{\"autotypenumbers\":\"strict\",\"colorway\":[\"#636efa\",\"#EF553B\",\"#00cc96\",\"#ab63fa\",\"#FFA15A\",\"#19d3f3\",\"#FF6692\",\"#B6E880\",\"#FF97FF\",\"#FECB52\"],\"font\":{\"color\":\"#2a3f5f\"},\"hovermode\":\"closest\",\"hoverlabel\":{\"align\":\"left\"},\"paper_bgcolor\":\"white\",\"plot_bgcolor\":\"#E5ECF6\",\"polar\":{\"bgcolor\":\"#E5ECF6\",\"angularaxis\":{\"gridcolor\":\"white\",\"linecolor\":\"white\",\"ticks\":\"\"},\"radialaxis\":{\"gridcolor\":\"white\",\"linecolor\":\"white\",\"ticks\":\"\"}},\"ternary\":{\"bgcolor\":\"#E5ECF6\",\"aaxis\":{\"gridcolor\":\"white\",\"linecolor\":\"white\",\"ticks\":\"\"},\"baxis\":{\"gridcolor\":\"white\",\"linecolor\":\"white\",\"ticks\":\"\"},\"caxis\":{\"gridcolor\":\"white\",\"linecolor\":\"white\",\"ticks\":\"\"}},\"coloraxis\":{\"colorbar\":{\"outlinewidth\":0,\"ticks\":\"\"}},\"colorscale\":{\"sequential\":[[0.0,\"#0d0887\"],[0.1111111111111111,\"#46039f\"],[0.2222222222222222,\"#7201a8\"],[0.3333333333333333,\"#9c179e\"],[0.4444444444444444,\"#bd3786\"],[0.5555555555555556,\"#d8576b\"],[0.6666666666666666,\"#ed7953\"],[0.7777777777777778,\"#fb9f3a\"],[0.8888888888888888,\"#fdca26\"],[1.0,\"#f0f921\"]],\"sequentialminus\":[[0.0,\"#0d0887\"],[0.1111111111111111,\"#46039f\"],[0.2222222222222222,\"#7201a8\"],[0.3333333333333333,\"#9c179e\"],[0.4444444444444444,\"#bd3786\"],[0.5555555555555556,\"#d8576b\"],[0.6666666666666666,\"#ed7953\"],[0.7777777777777778,\"#fb9f3a\"],[0.8888888888888888,\"#fdca26\"],[1.0,\"#f0f921\"]],\"diverging\":[[0,\"#8e0152\"],[0.1,\"#c51b7d\"],[0.2,\"#de77ae\"],[0.3,\"#f1b6da\"],[0.4,\"#fde0ef\"],[0.5,\"#f7f7f7\"],[0.6,\"#e6f5d0\"],[0.7,\"#b8e186\"],[0.8,\"#7fbc41\"],[0.9,\"#4d9221\"],[1,\"#276419\"]]},\"xaxis\":{\"gridcolor\":\"white\",\"linecolor\":\"white\",\"ticks\":\"\",\"title\":{\"standoff\":15},\"zerolinecolor\":\"white\",\"automargin\":true,\"zerolinewidth\":2},\"yaxis\":{\"gridcolor\":\"white\",\"linecolor\":\"white\",\"ticks\":\"\",\"title\":{\"standoff\":15},\"zerolinecolor\":\"white\",\"automargin\":true,\"zerolinewidth\":2},\"scene\":{\"xaxis\":{\"backgroundcolor\":\"#E5ECF6\",\"gridcolor\":\"white\",\"linecolor\":\"white\",\"showbackground\":true,\"ticks\":\"\",\"zerolinecolor\":\"white\",\"gridwidth\":2},\"yaxis\":{\"backgroundcolor\":\"#E5ECF6\",\"gridcolor\":\"white\",\"linecolor\":\"white\",\"showbackground\":true,\"ticks\":\"\",\"zerolinecolor\":\"white\",\"gridwidth\":2},\"zaxis\":{\"backgroundcolor\":\"#E5ECF6\",\"gridcolor\":\"white\",\"linecolor\":\"white\",\"showbackground\":true,\"ticks\":\"\",\"zerolinecolor\":\"white\",\"gridwidth\":2}},\"shapedefaults\":{\"line\":{\"color\":\"#2a3f5f\"}},\"annotationdefaults\":{\"arrowcolor\":\"#2a3f5f\",\"arrowhead\":0,\"arrowwidth\":1},\"geo\":{\"bgcolor\":\"white\",\"landcolor\":\"#E5ECF6\",\"subunitcolor\":\"white\",\"showland\":true,\"showlakes\":true,\"lakecolor\":\"white\"},\"title\":{\"x\":0.05},\"mapbox\":{\"style\":\"light\"}}},\"legend\":{\"tracegroupgap\":0},\"title\":{\"text\":\"Diyabet Hastas\\u0131 Olup Olmamas\\u0131 Aras\\u0131ndaki Y\\u00fczde\"},\"piecolorway\":[\"black\",\"pink\"],\"height\":400,\"width\":800},                        {\"responsive\": true}                    ).then(function(){\n",
              "                            \n",
              "var gd = document.getElementById('e598d48b-61d7-4fe7-8b1c-28226609dcb8');\n",
              "var x = new MutationObserver(function (mutations, observer) {{\n",
              "        var display = window.getComputedStyle(gd).display;\n",
              "        if (!display || display === 'none') {{\n",
              "            console.log([gd, 'removed!']);\n",
              "            Plotly.purge(gd);\n",
              "            observer.disconnect();\n",
              "        }}\n",
              "}});\n",
              "\n",
              "// Listen for the removal of the full notebook cells\n",
              "var notebookContainer = gd.closest('#notebook-container');\n",
              "if (notebookContainer) {{\n",
              "    x.observe(notebookContainer, {childList: true});\n",
              "}}\n",
              "\n",
              "// Listen for the clearing of the current output cell\n",
              "var outputEl = gd.closest('.output');\n",
              "if (outputEl) {{\n",
              "    x.observe(outputEl, {childList: true});\n",
              "}}\n",
              "\n",
              "                        })                };                            </script>        </div>\n",
              "</body>\n",
              "</html>"
            ]
          },
          "metadata": {}
        }
      ],
      "source": [
        "liste=[\"Diyabeti yok\",\"Diyabeti var\"]\n",
        "diyabet_mi = data[\"Outcome\"].value_counts().tolist()\n",
        "values = [diyabet_mi[0], diyabet_mi[1]]\n",
        "fig = px.pie(values=data['Outcome'].value_counts(), names=liste , width=800, height=400, color_discrete_sequence=[\"black\",\"pink\"]\n",
        "             ,title=\"Diyabet Hastası Olup Olmaması Arasındaki Yüzde\")\n",
        "fig.show()"
      ]
    },
    {
      "cell_type": "code",
      "execution_count": 60,
      "id": "91323d49",
      "metadata": {
        "execution": {
          "iopub.execute_input": "2022-10-15T05:25:41.678217Z",
          "iopub.status.busy": "2022-10-15T05:25:41.677376Z",
          "iopub.status.idle": "2022-10-15T05:25:41.690314Z",
          "shell.execute_reply": "2022-10-15T05:25:41.689227Z"
        },
        "id": "91323d49",
        "outputId": "3a0b7f88-de7d-4bd0-a134-e9c814f96012",
        "papermill": {
          "duration": 0.028874,
          "end_time": "2022-10-15T05:25:41.692708",
          "exception": false,
          "start_time": "2022-10-15T05:25:41.663834",
          "status": "completed"
        },
        "tags": [],
        "colab": {
          "base_uri": "https://localhost:8080/",
          "height": 52
        }
      },
      "outputs": [
        {
          "output_type": "execute_result",
          "data": {
            "text/plain": [
              "<Figure size 400x400 with 0 Axes>"
            ]
          },
          "metadata": {},
          "execution_count": 60
        },
        {
          "output_type": "display_data",
          "data": {
            "text/plain": [
              "<Figure size 400x400 with 0 Axes>"
            ]
          },
          "metadata": {}
        }
      ],
      "source": [
        "plt.figure(figsize=(4,4))"
      ]
    },
    {
      "cell_type": "code",
      "execution_count": 61,
      "id": "b0bdcf68",
      "metadata": {
        "execution": {
          "iopub.execute_input": "2022-10-15T05:25:41.718979Z",
          "iopub.status.busy": "2022-10-15T05:25:41.718589Z",
          "iopub.status.idle": "2022-10-15T05:25:41.813136Z",
          "shell.execute_reply": "2022-10-15T05:25:41.812003Z"
        },
        "id": "b0bdcf68",
        "outputId": "dd5bcadd-0af0-4b63-9600-8b79b36317b4",
        "papermill": {
          "duration": 0.110683,
          "end_time": "2022-10-15T05:25:41.815655",
          "exception": false,
          "start_time": "2022-10-15T05:25:41.704972",
          "status": "completed"
        },
        "tags": [],
        "colab": {
          "base_uri": "https://localhost:8080/",
          "height": 417
        }
      },
      "outputs": [
        {
          "output_type": "display_data",
          "data": {
            "text/html": [
              "<html>\n",
              "<head><meta charset=\"utf-8\" /></head>\n",
              "<body>\n",
              "    <div>            <script src=\"https://cdnjs.cloudflare.com/ajax/libs/mathjax/2.7.5/MathJax.js?config=TeX-AMS-MML_SVG\"></script><script type=\"text/javascript\">if (window.MathJax && window.MathJax.Hub && window.MathJax.Hub.Config) {window.MathJax.Hub.Config({SVG: {font: \"STIX-Web\"}});}</script>                <script type=\"text/javascript\">window.PlotlyConfig = {MathJaxConfig: 'local'};</script>\n",
              "        <script src=\"https://cdn.plot.ly/plotly-2.18.2.min.js\"></script>                <div id=\"a9d41e29-2198-462c-894e-ffeb9b1ffeb6\" class=\"plotly-graph-div\" style=\"height:400px; width:700px;\"></div>            <script type=\"text/javascript\">                                    window.PLOTLYENV=window.PLOTLYENV || {};                                    if (document.getElementById(\"a9d41e29-2198-462c-894e-ffeb9b1ffeb6\")) {                    Plotly.newPlot(                        \"a9d41e29-2198-462c-894e-ffeb9b1ffeb6\",                        [{\"alignmentgroup\":\"True\",\"hovertemplate\":\"variable=Age<br>index=%{x}<br>value=%{y}<extra></extra>\",\"legendgroup\":\"Age\",\"marker\":{\"color\":\"#636efa\",\"pattern\":{\"shape\":\"\"}},\"name\":\"Age\",\"offsetgroup\":\"Age\",\"orientation\":\"v\",\"showlegend\":true,\"textposition\":\"auto\",\"x\":[22,21,25,24,23,28,26,27,29,31,41,30,37,42,33,38,36,32,45,34,46,43,40,39,35,50,51,52,44,58,47,54,49,48,57,53,60,66,63,62,55,67,56,59,65,69,61,72,81,64,70,68],\"xaxis\":\"x\",\"y\":[72,63,48,46,38,35,33,32,29,24,22,21,19,18,17,16,16,16,15,14,13,13,13,12,10,8,8,8,8,7,6,6,5,5,5,5,5,4,4,4,4,3,3,3,3,2,2,1,1,1,1,1],\"yaxis\":\"y\",\"type\":\"bar\"}],                        {\"template\":{\"data\":{\"histogram2dcontour\":[{\"type\":\"histogram2dcontour\",\"colorbar\":{\"outlinewidth\":0,\"ticks\":\"\"},\"colorscale\":[[0.0,\"#0d0887\"],[0.1111111111111111,\"#46039f\"],[0.2222222222222222,\"#7201a8\"],[0.3333333333333333,\"#9c179e\"],[0.4444444444444444,\"#bd3786\"],[0.5555555555555556,\"#d8576b\"],[0.6666666666666666,\"#ed7953\"],[0.7777777777777778,\"#fb9f3a\"],[0.8888888888888888,\"#fdca26\"],[1.0,\"#f0f921\"]]}],\"choropleth\":[{\"type\":\"choropleth\",\"colorbar\":{\"outlinewidth\":0,\"ticks\":\"\"}}],\"histogram2d\":[{\"type\":\"histogram2d\",\"colorbar\":{\"outlinewidth\":0,\"ticks\":\"\"},\"colorscale\":[[0.0,\"#0d0887\"],[0.1111111111111111,\"#46039f\"],[0.2222222222222222,\"#7201a8\"],[0.3333333333333333,\"#9c179e\"],[0.4444444444444444,\"#bd3786\"],[0.5555555555555556,\"#d8576b\"],[0.6666666666666666,\"#ed7953\"],[0.7777777777777778,\"#fb9f3a\"],[0.8888888888888888,\"#fdca26\"],[1.0,\"#f0f921\"]]}],\"heatmap\":[{\"type\":\"heatmap\",\"colorbar\":{\"outlinewidth\":0,\"ticks\":\"\"},\"colorscale\":[[0.0,\"#0d0887\"],[0.1111111111111111,\"#46039f\"],[0.2222222222222222,\"#7201a8\"],[0.3333333333333333,\"#9c179e\"],[0.4444444444444444,\"#bd3786\"],[0.5555555555555556,\"#d8576b\"],[0.6666666666666666,\"#ed7953\"],[0.7777777777777778,\"#fb9f3a\"],[0.8888888888888888,\"#fdca26\"],[1.0,\"#f0f921\"]]}],\"heatmapgl\":[{\"type\":\"heatmapgl\",\"colorbar\":{\"outlinewidth\":0,\"ticks\":\"\"},\"colorscale\":[[0.0,\"#0d0887\"],[0.1111111111111111,\"#46039f\"],[0.2222222222222222,\"#7201a8\"],[0.3333333333333333,\"#9c179e\"],[0.4444444444444444,\"#bd3786\"],[0.5555555555555556,\"#d8576b\"],[0.6666666666666666,\"#ed7953\"],[0.7777777777777778,\"#fb9f3a\"],[0.8888888888888888,\"#fdca26\"],[1.0,\"#f0f921\"]]}],\"contourcarpet\":[{\"type\":\"contourcarpet\",\"colorbar\":{\"outlinewidth\":0,\"ticks\":\"\"}}],\"contour\":[{\"type\":\"contour\",\"colorbar\":{\"outlinewidth\":0,\"ticks\":\"\"},\"colorscale\":[[0.0,\"#0d0887\"],[0.1111111111111111,\"#46039f\"],[0.2222222222222222,\"#7201a8\"],[0.3333333333333333,\"#9c179e\"],[0.4444444444444444,\"#bd3786\"],[0.5555555555555556,\"#d8576b\"],[0.6666666666666666,\"#ed7953\"],[0.7777777777777778,\"#fb9f3a\"],[0.8888888888888888,\"#fdca26\"],[1.0,\"#f0f921\"]]}],\"surface\":[{\"type\":\"surface\",\"colorbar\":{\"outlinewidth\":0,\"ticks\":\"\"},\"colorscale\":[[0.0,\"#0d0887\"],[0.1111111111111111,\"#46039f\"],[0.2222222222222222,\"#7201a8\"],[0.3333333333333333,\"#9c179e\"],[0.4444444444444444,\"#bd3786\"],[0.5555555555555556,\"#d8576b\"],[0.6666666666666666,\"#ed7953\"],[0.7777777777777778,\"#fb9f3a\"],[0.8888888888888888,\"#fdca26\"],[1.0,\"#f0f921\"]]}],\"mesh3d\":[{\"type\":\"mesh3d\",\"colorbar\":{\"outlinewidth\":0,\"ticks\":\"\"}}],\"scatter\":[{\"fillpattern\":{\"fillmode\":\"overlay\",\"size\":10,\"solidity\":0.2},\"type\":\"scatter\"}],\"parcoords\":[{\"type\":\"parcoords\",\"line\":{\"colorbar\":{\"outlinewidth\":0,\"ticks\":\"\"}}}],\"scatterpolargl\":[{\"type\":\"scatterpolargl\",\"marker\":{\"colorbar\":{\"outlinewidth\":0,\"ticks\":\"\"}}}],\"bar\":[{\"error_x\":{\"color\":\"#2a3f5f\"},\"error_y\":{\"color\":\"#2a3f5f\"},\"marker\":{\"line\":{\"color\":\"#E5ECF6\",\"width\":0.5},\"pattern\":{\"fillmode\":\"overlay\",\"size\":10,\"solidity\":0.2}},\"type\":\"bar\"}],\"scattergeo\":[{\"type\":\"scattergeo\",\"marker\":{\"colorbar\":{\"outlinewidth\":0,\"ticks\":\"\"}}}],\"scatterpolar\":[{\"type\":\"scatterpolar\",\"marker\":{\"colorbar\":{\"outlinewidth\":0,\"ticks\":\"\"}}}],\"histogram\":[{\"marker\":{\"pattern\":{\"fillmode\":\"overlay\",\"size\":10,\"solidity\":0.2}},\"type\":\"histogram\"}],\"scattergl\":[{\"type\":\"scattergl\",\"marker\":{\"colorbar\":{\"outlinewidth\":0,\"ticks\":\"\"}}}],\"scatter3d\":[{\"type\":\"scatter3d\",\"line\":{\"colorbar\":{\"outlinewidth\":0,\"ticks\":\"\"}},\"marker\":{\"colorbar\":{\"outlinewidth\":0,\"ticks\":\"\"}}}],\"scattermapbox\":[{\"type\":\"scattermapbox\",\"marker\":{\"colorbar\":{\"outlinewidth\":0,\"ticks\":\"\"}}}],\"scatterternary\":[{\"type\":\"scatterternary\",\"marker\":{\"colorbar\":{\"outlinewidth\":0,\"ticks\":\"\"}}}],\"scattercarpet\":[{\"type\":\"scattercarpet\",\"marker\":{\"colorbar\":{\"outlinewidth\":0,\"ticks\":\"\"}}}],\"carpet\":[{\"aaxis\":{\"endlinecolor\":\"#2a3f5f\",\"gridcolor\":\"white\",\"linecolor\":\"white\",\"minorgridcolor\":\"white\",\"startlinecolor\":\"#2a3f5f\"},\"baxis\":{\"endlinecolor\":\"#2a3f5f\",\"gridcolor\":\"white\",\"linecolor\":\"white\",\"minorgridcolor\":\"white\",\"startlinecolor\":\"#2a3f5f\"},\"type\":\"carpet\"}],\"table\":[{\"cells\":{\"fill\":{\"color\":\"#EBF0F8\"},\"line\":{\"color\":\"white\"}},\"header\":{\"fill\":{\"color\":\"#C8D4E3\"},\"line\":{\"color\":\"white\"}},\"type\":\"table\"}],\"barpolar\":[{\"marker\":{\"line\":{\"color\":\"#E5ECF6\",\"width\":0.5},\"pattern\":{\"fillmode\":\"overlay\",\"size\":10,\"solidity\":0.2}},\"type\":\"barpolar\"}],\"pie\":[{\"automargin\":true,\"type\":\"pie\"}]},\"layout\":{\"autotypenumbers\":\"strict\",\"colorway\":[\"#636efa\",\"#EF553B\",\"#00cc96\",\"#ab63fa\",\"#FFA15A\",\"#19d3f3\",\"#FF6692\",\"#B6E880\",\"#FF97FF\",\"#FECB52\"],\"font\":{\"color\":\"#2a3f5f\"},\"hovermode\":\"closest\",\"hoverlabel\":{\"align\":\"left\"},\"paper_bgcolor\":\"white\",\"plot_bgcolor\":\"#E5ECF6\",\"polar\":{\"bgcolor\":\"#E5ECF6\",\"angularaxis\":{\"gridcolor\":\"white\",\"linecolor\":\"white\",\"ticks\":\"\"},\"radialaxis\":{\"gridcolor\":\"white\",\"linecolor\":\"white\",\"ticks\":\"\"}},\"ternary\":{\"bgcolor\":\"#E5ECF6\",\"aaxis\":{\"gridcolor\":\"white\",\"linecolor\":\"white\",\"ticks\":\"\"},\"baxis\":{\"gridcolor\":\"white\",\"linecolor\":\"white\",\"ticks\":\"\"},\"caxis\":{\"gridcolor\":\"white\",\"linecolor\":\"white\",\"ticks\":\"\"}},\"coloraxis\":{\"colorbar\":{\"outlinewidth\":0,\"ticks\":\"\"}},\"colorscale\":{\"sequential\":[[0.0,\"#0d0887\"],[0.1111111111111111,\"#46039f\"],[0.2222222222222222,\"#7201a8\"],[0.3333333333333333,\"#9c179e\"],[0.4444444444444444,\"#bd3786\"],[0.5555555555555556,\"#d8576b\"],[0.6666666666666666,\"#ed7953\"],[0.7777777777777778,\"#fb9f3a\"],[0.8888888888888888,\"#fdca26\"],[1.0,\"#f0f921\"]],\"sequentialminus\":[[0.0,\"#0d0887\"],[0.1111111111111111,\"#46039f\"],[0.2222222222222222,\"#7201a8\"],[0.3333333333333333,\"#9c179e\"],[0.4444444444444444,\"#bd3786\"],[0.5555555555555556,\"#d8576b\"],[0.6666666666666666,\"#ed7953\"],[0.7777777777777778,\"#fb9f3a\"],[0.8888888888888888,\"#fdca26\"],[1.0,\"#f0f921\"]],\"diverging\":[[0,\"#8e0152\"],[0.1,\"#c51b7d\"],[0.2,\"#de77ae\"],[0.3,\"#f1b6da\"],[0.4,\"#fde0ef\"],[0.5,\"#f7f7f7\"],[0.6,\"#e6f5d0\"],[0.7,\"#b8e186\"],[0.8,\"#7fbc41\"],[0.9,\"#4d9221\"],[1,\"#276419\"]]},\"xaxis\":{\"gridcolor\":\"white\",\"linecolor\":\"white\",\"ticks\":\"\",\"title\":{\"standoff\":15},\"zerolinecolor\":\"white\",\"automargin\":true,\"zerolinewidth\":2},\"yaxis\":{\"gridcolor\":\"white\",\"linecolor\":\"white\",\"ticks\":\"\",\"title\":{\"standoff\":15},\"zerolinecolor\":\"white\",\"automargin\":true,\"zerolinewidth\":2},\"scene\":{\"xaxis\":{\"backgroundcolor\":\"#E5ECF6\",\"gridcolor\":\"white\",\"linecolor\":\"white\",\"showbackground\":true,\"ticks\":\"\",\"zerolinecolor\":\"white\",\"gridwidth\":2},\"yaxis\":{\"backgroundcolor\":\"#E5ECF6\",\"gridcolor\":\"white\",\"linecolor\":\"white\",\"showbackground\":true,\"ticks\":\"\",\"zerolinecolor\":\"white\",\"gridwidth\":2},\"zaxis\":{\"backgroundcolor\":\"#E5ECF6\",\"gridcolor\":\"white\",\"linecolor\":\"white\",\"showbackground\":true,\"ticks\":\"\",\"zerolinecolor\":\"white\",\"gridwidth\":2}},\"shapedefaults\":{\"line\":{\"color\":\"#2a3f5f\"}},\"annotationdefaults\":{\"arrowcolor\":\"#2a3f5f\",\"arrowhead\":0,\"arrowwidth\":1},\"geo\":{\"bgcolor\":\"white\",\"landcolor\":\"#E5ECF6\",\"subunitcolor\":\"white\",\"showland\":true,\"showlakes\":true,\"lakecolor\":\"white\"},\"title\":{\"x\":0.05},\"mapbox\":{\"style\":\"light\"}}},\"xaxis\":{\"anchor\":\"y\",\"domain\":[0.0,1.0],\"title\":{\"text\":\"index\"}},\"yaxis\":{\"anchor\":\"x\",\"domain\":[0.0,1.0],\"title\":{\"text\":\"value\"}},\"legend\":{\"title\":{\"text\":\"variable\"},\"tracegroupgap\":0},\"margin\":{\"t\":60},\"barmode\":\"relative\",\"height\":400,\"width\":700},                        {\"responsive\": true}                    ).then(function(){\n",
              "                            \n",
              "var gd = document.getElementById('a9d41e29-2198-462c-894e-ffeb9b1ffeb6');\n",
              "var x = new MutationObserver(function (mutations, observer) {{\n",
              "        var display = window.getComputedStyle(gd).display;\n",
              "        if (!display || display === 'none') {{\n",
              "            console.log([gd, 'removed!']);\n",
              "            Plotly.purge(gd);\n",
              "            observer.disconnect();\n",
              "        }}\n",
              "}});\n",
              "\n",
              "// Listen for the removal of the full notebook cells\n",
              "var notebookContainer = gd.closest('#notebook-container');\n",
              "if (notebookContainer) {{\n",
              "    x.observe(notebookContainer, {childList: true});\n",
              "}}\n",
              "\n",
              "// Listen for the clearing of the current output cell\n",
              "var outputEl = gd.closest('.output');\n",
              "if (outputEl) {{\n",
              "    x.observe(outputEl, {childList: true});\n",
              "}}\n",
              "\n",
              "                        })                };                            </script>        </div>\n",
              "</body>\n",
              "</html>"
            ]
          },
          "metadata": {}
        }
      ],
      "source": [
        "fig = px.bar(data['Age'].value_counts(), height=400, width = 700) \n",
        "fig.show()"
      ]
    },
    {
      "cell_type": "code",
      "execution_count": 61,
      "id": "c33b6fc3",
      "metadata": {
        "execution": {
          "iopub.execute_input": "2022-10-15T05:25:41.876470Z",
          "iopub.status.busy": "2022-10-15T05:25:41.875465Z",
          "iopub.status.idle": "2022-10-15T05:25:42.150337Z",
          "shell.execute_reply": "2022-10-15T05:25:42.149130Z"
        },
        "id": "c33b6fc3",
        "papermill": {
          "duration": 0.291322,
          "end_time": "2022-10-15T05:25:42.152870",
          "exception": false,
          "start_time": "2022-10-15T05:25:41.861548",
          "status": "completed"
        },
        "tags": []
      },
      "outputs": [],
      "source": []
    },
    {
      "cell_type": "code",
      "source": [
        "#sns.distplot(data['Glucose'],color =\"DarkSlateBlue\" )\n",
        "sns.histplot(data[\"Glucose\"], kde=True,color=\"DarkSlateBlue\",stat=\"density\")"
      ],
      "metadata": {
        "colab": {
          "base_uri": "https://localhost:8080/",
          "height": 469
        },
        "id": "KG5bzhOmnnSj",
        "outputId": "17fc197d-10ac-48c6-eff7-9829deddf454"
      },
      "id": "KG5bzhOmnnSj",
      "execution_count": 62,
      "outputs": [
        {
          "output_type": "execute_result",
          "data": {
            "text/plain": [
              "<Axes: xlabel='Glucose', ylabel='Density'>"
            ]
          },
          "metadata": {},
          "execution_count": 62
        },
        {
          "output_type": "display_data",
          "data": {
            "text/plain": [
              "<Figure size 640x480 with 1 Axes>"
            ],
            "image/png": "[encoded data removed]"
          },
          "metadata": {}
        }
      ]
    },
    {
      "cell_type": "code",
      "source": [],
      "metadata": {
        "id": "1PIjwzjWnV87"
      },
      "id": "1PIjwzjWnV87",
      "execution_count": 62,
      "outputs": []
    },
    {
      "cell_type": "code",
      "execution_count": 63,
      "id": "d42de9f0",
      "metadata": {
        "execution": {
          "iopub.execute_input": "2022-10-15T05:25:42.182044Z",
          "iopub.status.busy": "2022-10-15T05:25:42.181637Z",
          "iopub.status.idle": "2022-10-15T05:25:42.485576Z",
          "shell.execute_reply": "2022-10-15T05:25:42.484293Z"
        },
        "id": "d42de9f0",
        "outputId": "f2c5742e-abfd-486c-d913-436d14911b83",
        "papermill": {
          "duration": 0.321944,
          "end_time": "2022-10-15T05:25:42.488222",
          "exception": false,
          "start_time": "2022-10-15T05:25:42.166278",
          "status": "completed"
        },
        "tags": [],
        "colab": {
          "base_uri": "https://localhost:8080/",
          "height": 466
        }
      },
      "outputs": [
        {
          "output_type": "execute_result",
          "data": {
            "text/plain": [
              "<Axes: xlabel='BloodPressure', ylabel='Density'>"
            ]
          },
          "metadata": {},
          "execution_count": 63
        },
        {
          "output_type": "display_data",
          "data": {
            "text/plain": [
              "<Figure size 640x480 with 1 Axes>"
            ],
            "image/png": "[encoded data removed]"
          },
          "metadata": {}
        }
      ],
      "source": [
        "#sns.distplot(data['BloodPressure'], color = 'DarkKhaki')\n",
        "sns.histplot(data[\"BloodPressure\"], kde=True,color=\"DarkKhaki\",stat=\"density\")"
      ]
    },
    {
      "cell_type": "code",
      "execution_count": 64,
      "id": "acd8b87f",
      "metadata": {
        "execution": {
          "iopub.execute_input": "2022-10-15T05:25:42.517287Z",
          "iopub.status.busy": "2022-10-15T05:25:42.516870Z",
          "iopub.status.idle": "2022-10-15T05:25:42.785371Z",
          "shell.execute_reply": "2022-10-15T05:25:42.784192Z"
        },
        "id": "acd8b87f",
        "outputId": "584c292b-cabf-4afb-d338-a5bc72583e6e",
        "papermill": {
          "duration": 0.285746,
          "end_time": "2022-10-15T05:25:42.787794",
          "exception": false,
          "start_time": "2022-10-15T05:25:42.502048",
          "status": "completed"
        },
        "tags": [],
        "colab": {
          "base_uri": "https://localhost:8080/",
          "height": 466
        }
      },
      "outputs": [
        {
          "output_type": "execute_result",
          "data": {
            "text/plain": [
              "<Axes: xlabel='Insulin', ylabel='Density'>"
            ]
          },
          "metadata": {},
          "execution_count": 64
        },
        {
          "output_type": "display_data",
          "data": {
            "text/plain": [
              "<Figure size 640x480 with 1 Axes>"
            ],
            "image/png": "[encoded data removed]"
          },
          "metadata": {}
        }
      ],
      "source": [
        "#sns.distplot(data['Insulin'],color =\"DarkSeaGreen\" )\n",
        "sns.histplot(data[\"Insulin\"], kde=True,color=\"DarkSeaGreen\",stat=\"density\")"
      ]
    },
    {
      "cell_type": "code",
      "execution_count": 65,
      "id": "0483696d",
      "metadata": {
        "execution": {
          "iopub.execute_input": "2022-10-15T05:25:42.846639Z",
          "iopub.status.busy": "2022-10-15T05:25:42.845765Z",
          "iopub.status.idle": "2022-10-15T05:25:43.023905Z",
          "shell.execute_reply": "2022-10-15T05:25:43.022664Z"
        },
        "id": "0483696d",
        "papermill": {
          "duration": 0.196547,
          "end_time": "2022-10-15T05:25:43.026959",
          "exception": false,
          "start_time": "2022-10-15T05:25:42.830412",
          "status": "completed"
        },
        "tags": []
      },
      "outputs": [],
      "source": [
        "from sklearn.model_selection import train_test_split"
      ]
    },
    {
      "cell_type": "code",
      "execution_count": 66,
      "id": "fb3e7c74",
      "metadata": {
        "execution": {
          "iopub.execute_input": "2022-10-15T05:25:43.059284Z",
          "iopub.status.busy": "2022-10-15T05:25:43.058814Z",
          "iopub.status.idle": "2022-10-15T05:25:43.067917Z",
          "shell.execute_reply": "2022-10-15T05:25:43.066761Z"
        },
        "id": "fb3e7c74",
        "papermill": {
          "duration": 0.028214,
          "end_time": "2022-10-15T05:25:43.070577",
          "exception": false,
          "start_time": "2022-10-15T05:25:43.042363",
          "status": "completed"
        },
        "tags": []
      },
      "outputs": [],
      "source": [
        "x = data.drop(['Outcome'] , axis = 1).values\n",
        "y = data['Outcome' ].values\n",
        "x_train , x_test , y_train , y_test = train_test_split(x,y , test_size= 0.2 , random_state=42)"
      ]
    },
    {
      "cell_type": "code",
      "execution_count": 67,
      "id": "01289257",
      "metadata": {
        "execution": {
          "iopub.execute_input": "2022-10-15T05:25:43.129777Z",
          "iopub.status.busy": "2022-10-15T05:25:43.129349Z",
          "iopub.status.idle": "2022-10-15T05:25:43.134767Z",
          "shell.execute_reply": "2022-10-15T05:25:43.133577Z"
        },
        "id": "01289257",
        "papermill": {
          "duration": 0.023672,
          "end_time": "2022-10-15T05:25:43.136939",
          "exception": false,
          "start_time": "2022-10-15T05:25:43.113267",
          "status": "completed"
        },
        "tags": []
      },
      "outputs": [],
      "source": [
        "from sklearn.preprocessing import MinMaxScaler"
      ]
    },
    {
      "cell_type": "code",
      "execution_count": 68,
      "id": "a62f140e",
      "metadata": {
        "execution": {
          "iopub.execute_input": "2022-10-15T05:25:43.167606Z",
          "iopub.status.busy": "2022-10-15T05:25:43.166654Z",
          "iopub.status.idle": "2022-10-15T05:25:43.171918Z",
          "shell.execute_reply": "2022-10-15T05:25:43.170702Z"
        },
        "id": "a62f140e",
        "papermill": {
          "duration": 0.023188,
          "end_time": "2022-10-15T05:25:43.174435",
          "exception": false,
          "start_time": "2022-10-15T05:25:43.151247",
          "status": "completed"
        },
        "tags": []
      },
      "outputs": [],
      "source": [
        "scaler = MinMaxScaler()"
      ]
    },
    {
      "cell_type": "code",
      "execution_count": 69,
      "id": "8db4514a",
      "metadata": {
        "execution": {
          "iopub.execute_input": "2022-10-15T05:25:43.205117Z",
          "iopub.status.busy": "2022-10-15T05:25:43.204707Z",
          "iopub.status.idle": "2022-10-15T05:25:43.213405Z",
          "shell.execute_reply": "2022-10-15T05:25:43.212391Z"
        },
        "id": "8db4514a",
        "outputId": "39f3954e-0dae-45df-e87b-b6c91f0a9e2f",
        "papermill": {
          "duration": 0.02692,
          "end_time": "2022-10-15T05:25:43.215750",
          "exception": false,
          "start_time": "2022-10-15T05:25:43.188830",
          "status": "completed"
        },
        "tags": [],
        "colab": {
          "base_uri": "https://localhost:8080/",
          "height": 75
        }
      },
      "outputs": [
        {
          "output_type": "execute_result",
          "data": {
            "text/plain": [
              "MinMaxScaler()"
            ],
            "text/html": [
              "<style>#sk-container-id-2 {color: black;background-color: white;}#sk-container-id-2 pre{padding: 0;}#sk-container-id-2 div.sk-toggleable {background-color: white;}#sk-container-id-2 label.sk-toggleable__label {cursor: pointer;display: block;width: 100%;margin-bottom: 0;padding: 0.3em;box-sizing: border-box;text-align: center;}#sk-container-id-2 label.sk-toggleable__label-arrow:before {content: \"▸\";float: left;margin-right: 0.25em;color: #696969;}#sk-container-id-2 label.sk-toggleable__label-arrow:hover:before {color: black;}#sk-container-id-2 div.sk-estimator:hover label.sk-toggleable__label-arrow:before {color: black;}#sk-container-id-2 div.sk-toggleable__content {max-height: 0;max-width: 0;overflow: hidden;text-align: left;background-color: #f0f8ff;}#sk-container-id-2 div.sk-toggleable__content pre {margin: 0.2em;color: black;border-radius: 0.25em;background-color: #f0f8ff;}#sk-container-id-2 input.sk-toggleable__control:checked~div.sk-toggleable__content {max-height: 200px;max-width: 100%;overflow: auto;}#sk-container-id-2 input.sk-toggleable__control:checked~label.sk-toggleable__label-arrow:before {content: \"▾\";}#sk-container-id-2 div.sk-estimator input.sk-toggleable__control:checked~label.sk-toggleable__label {background-color: #d4ebff;}#sk-container-id-2 div.sk-label input.sk-toggleable__control:checked~label.sk-toggleable__label {background-color: #d4ebff;}#sk-container-id-2 input.sk-hidden--visually {border: 0;clip: rect(1px 1px 1px 1px);clip: rect(1px, 1px, 1px, 1px);height: 1px;margin: -1px;overflow: hidden;padding: 0;position: absolute;width: 1px;}#sk-container-id-2 div.sk-estimator {font-family: monospace;background-color: #f0f8ff;border: 1px dotted black;border-radius: 0.25em;box-sizing: border-box;margin-bottom: 0.5em;}#sk-container-id-2 div.sk-estimator:hover {background-color: #d4ebff;}#sk-container-id-2 div.sk-parallel-item::after {content: \"\";width: 100%;border-bottom: 1px solid gray;flex-grow: 1;}#sk-container-id-2 div.sk-label:hover label.sk-toggleable__label {background-color: #d4ebff;}#sk-container-id-2 div.sk-serial::before {content: \"\";position: absolute;border-left: 1px solid gray;box-sizing: border-box;top: 0;bottom: 0;left: 50%;z-index: 0;}#sk-container-id-2 div.sk-serial {display: flex;flex-direction: column;align-items: center;background-color: white;padding-right: 0.2em;padding-left: 0.2em;position: relative;}#sk-container-id-2 div.sk-item {position: relative;z-index: 1;}#sk-container-id-2 div.sk-parallel {display: flex;align-items: stretch;justify-content: center;background-color: white;position: relative;}#sk-container-id-2 div.sk-item::before, #sk-container-id-2 div.sk-parallel-item::before {content: \"\";position: absolute;border-left: 1px solid gray;box-sizing: border-box;top: 0;bottom: 0;left: 50%;z-index: -1;}#sk-container-id-2 div.sk-parallel-item {display: flex;flex-direction: column;z-index: 1;position: relative;background-color: white;}#sk-container-id-2 div.sk-parallel-item:first-child::after {align-self: flex-end;width: 50%;}#sk-container-id-2 div.sk-parallel-item:last-child::after {align-self: flex-start;width: 50%;}#sk-container-id-2 div.sk-parallel-item:only-child::after {width: 0;}#sk-container-id-2 div.sk-dashed-wrapped {border: 1px dashed gray;margin: 0 0.4em 0.5em 0.4em;box-sizing: border-box;padding-bottom: 0.4em;background-color: white;}#sk-container-id-2 div.sk-label label {font-family: monospace;font-weight: bold;display: inline-block;line-height: 1.2em;}#sk-container-id-2 div.sk-label-container {text-align: center;}#sk-container-id-2 div.sk-container {/* jupyter's `normalize.less` sets `[hidden] { display: none; }` but bootstrap.min.css set `[hidden] { display: none !important; }` so we also need the `!important` here to be able to override the default hidden behavior on the sphinx rendered scikit-learn.org. See: https://github.com/scikit-learn/scikit-learn/issues/21755 */display: inline-block !important;position: relative;}#sk-container-id-2 div.sk-text-repr-fallback {display: none;}</style><div id=\"sk-container-id-2\" class=\"sk-top-container\"><div class=\"sk-text-repr-fallback\"><pre>MinMaxScaler()</pre><b>In a Jupyter environment, please rerun this cell to show the HTML representation or trust the notebook. <br />On GitHub, the HTML representation is unable to render, please try loading this page with nbviewer.org.</b></div><div class=\"sk-container\" hidden><div class=\"sk-item\"><div class=\"sk-estimator sk-toggleable\"><input class=\"sk-toggleable__control sk-hidden--visually\" id=\"sk-estimator-id-2\" type=\"checkbox\" checked><label for=\"sk-estimator-id-2\" class=\"sk-toggleable__label sk-toggleable__label-arrow\">MinMaxScaler</label><div class=\"sk-toggleable__content\"><pre>MinMaxScaler()</pre></div></div></div></div></div>"
            ]
          },
          "metadata": {},
          "execution_count": 69
        }
      ],
      "source": [
        "scaler.fit(x_train)"
      ]
    },
    {
      "cell_type": "code",
      "execution_count": 70,
      "id": "67f8c326",
      "metadata": {
        "execution": {
          "iopub.execute_input": "2022-10-15T05:25:43.246866Z",
          "iopub.status.busy": "2022-10-15T05:25:43.246443Z",
          "iopub.status.idle": "2022-10-15T05:25:43.252135Z",
          "shell.execute_reply": "2022-10-15T05:25:43.251288Z"
        },
        "id": "67f8c326",
        "papermill": {
          "duration": 0.023795,
          "end_time": "2022-10-15T05:25:43.254474",
          "exception": false,
          "start_time": "2022-10-15T05:25:43.230679",
          "status": "completed"
        },
        "tags": []
      },
      "outputs": [],
      "source": [
        "x_train = scaler.transform(x_train)\n",
        "x_test = scaler.transform(x_test)"
      ]
    },
    {
      "cell_type": "code",
      "execution_count": 71,
      "id": "076e6276",
      "metadata": {
        "execution": {
          "iopub.execute_input": "2022-10-15T05:25:43.352848Z",
          "iopub.status.busy": "2022-10-15T05:25:43.352461Z",
          "iopub.status.idle": "2022-10-15T05:25:49.193627Z",
          "shell.execute_reply": "2022-10-15T05:25:49.192366Z"
        },
        "id": "076e6276",
        "papermill": {
          "duration": 5.860163,
          "end_time": "2022-10-15T05:25:49.196749",
          "exception": false,
          "start_time": "2022-10-15T05:25:43.336586",
          "status": "completed"
        },
        "tags": []
      },
      "outputs": [],
      "source": [
        "import tensorflow as tf\n",
        "from tensorflow.keras.models import Sequential\n",
        "from tensorflow.keras.layers import Dense, Activation,Dropout\n",
        "from tensorflow.keras.optimizers import Adam"
      ]
    },
    {
      "cell_type": "code",
      "execution_count": 72,
      "id": "20bce309",
      "metadata": {
        "execution": {
          "iopub.execute_input": "2022-10-15T05:25:49.228700Z",
          "iopub.status.busy": "2022-10-15T05:25:49.227177Z",
          "iopub.status.idle": "2022-10-15T05:25:49.298535Z",
          "shell.execute_reply": "2022-10-15T05:25:49.297236Z"
        },
        "id": "20bce309",
        "papermill": {
          "duration": 0.089719,
          "end_time": "2022-10-15T05:25:49.301226",
          "exception": false,
          "start_time": "2022-10-15T05:25:49.211507",
          "status": "completed"
        },
        "tags": []
      },
      "outputs": [],
      "source": [
        "#Gerekli modeli kur\n",
        "model = Sequential()"
      ]
    },
    {
      "cell_type": "code",
      "execution_count": 73,
      "id": "100dda0d",
      "metadata": {
        "execution": {
          "iopub.execute_input": "2022-10-15T05:25:49.332004Z",
          "iopub.status.busy": "2022-10-15T05:25:49.331572Z",
          "iopub.status.idle": "2022-10-15T05:25:49.568360Z",
          "shell.execute_reply": "2022-10-15T05:25:49.567438Z"
        },
        "id": "100dda0d",
        "papermill": {
          "duration": 0.255284,
          "end_time": "2022-10-15T05:25:49.570960",
          "exception": false,
          "start_time": "2022-10-15T05:25:49.315676",
          "status": "completed"
        },
        "tags": []
      },
      "outputs": [],
      "source": [
        "\n",
        "model.add(Dense(20,activation='relu'))\n",
        "\n",
        "model.add(Dense(20,activation='relu'))\n",
        "\n",
        "model.add(Dense(1,activation='sigmoid'))\n",
        "\n",
        "model.compile(loss='binary_crossentropy', optimizer='adam', metrics = ['accuracy'])"
      ]
    },
    {
      "cell_type": "code",
      "execution_count": 45,
      "id": "692b3059",
      "metadata": {
        "execution": {
          "iopub.execute_input": "2022-10-15T05:25:49.630962Z",
          "iopub.status.busy": "2022-10-15T05:25:49.629943Z",
          "iopub.status.idle": "2022-10-15T05:26:07.816480Z",
          "shell.execute_reply": "2022-10-15T05:26:07.815117Z"
        },
        "id": "692b3059",
        "outputId": "4e863824-941f-476e-aa22-f34b794d472e",
        "papermill": {
          "duration": 18.204537,
          "end_time": "2022-10-15T05:26:07.818946",
          "exception": false,
          "start_time": "2022-10-15T05:25:49.614409",
          "status": "completed"
        },
        "tags": [],
        "colab": {
          "base_uri": "https://localhost:8080/"
        }
      },
      "outputs": [
        {
          "output_type": "stream",
          "name": "stdout",
          "text": [
            "Epoch 1/200\n",
            "62/62 [==============================] - 6s 3ms/step - loss: 0.6766 - accuracy: 0.6221\n",
            "Epoch 2/200\n",
            "62/62 [==============================] - 0s 3ms/step - loss: 0.6514 - accuracy: 0.6515\n",
            "Epoch 3/200\n",
            "62/62 [==============================] - 0s 3ms/step - loss: 0.6343 - accuracy: 0.6482\n",
            "Epoch 4/200\n",
            "62/62 [==============================] - 0s 3ms/step - loss: 0.6153 - accuracy: 0.6612\n",
            "Epoch 5/200\n",
            "62/62 [==============================] - 0s 3ms/step - loss: 0.5973 - accuracy: 0.6743\n",
            "Epoch 6/200\n",
            "62/62 [==============================] - 0s 3ms/step - loss: 0.5804 - accuracy: 0.6840\n",
            "Epoch 7/200\n",
            "62/62 [==============================] - 0s 3ms/step - loss: 0.5657 - accuracy: 0.7003\n",
            "Epoch 8/200\n",
            "62/62 [==============================] - 0s 3ms/step - loss: 0.5559 - accuracy: 0.7150\n",
            "Epoch 9/200\n",
            "62/62 [==============================] - 0s 3ms/step - loss: 0.5488 - accuracy: 0.7036\n",
            "Epoch 10/200\n",
            "62/62 [==============================] - 0s 4ms/step - loss: 0.5381 - accuracy: 0.7215\n",
            "Epoch 11/200\n",
            "62/62 [==============================] - 0s 5ms/step - loss: 0.5273 - accuracy: 0.7296\n",
            "Epoch 12/200\n",
            "62/62 [==============================] - 0s 5ms/step - loss: 0.5193 - accuracy: 0.7345\n",
            "Epoch 13/200\n",
            "62/62 [==============================] - 0s 5ms/step - loss: 0.5129 - accuracy: 0.7410\n",
            "Epoch 14/200\n",
            "62/62 [==============================] - 0s 5ms/step - loss: 0.5040 - accuracy: 0.7590\n",
            "Epoch 15/200\n",
            "62/62 [==============================] - 0s 4ms/step - loss: 0.5018 - accuracy: 0.7476\n",
            "Epoch 16/200\n",
            "62/62 [==============================] - 0s 4ms/step - loss: 0.4962 - accuracy: 0.7541\n",
            "Epoch 17/200\n",
            "62/62 [==============================] - 0s 5ms/step - loss: 0.4902 - accuracy: 0.7606\n",
            "Epoch 18/200\n",
            "62/62 [==============================] - 0s 4ms/step - loss: 0.4866 - accuracy: 0.7557\n",
            "Epoch 19/200\n",
            "62/62 [==============================] - 0s 3ms/step - loss: 0.4798 - accuracy: 0.7687\n",
            "Epoch 20/200\n",
            "62/62 [==============================] - 0s 4ms/step - loss: 0.4767 - accuracy: 0.7687\n",
            "Epoch 21/200\n",
            "62/62 [==============================] - 0s 3ms/step - loss: 0.4751 - accuracy: 0.7671\n",
            "Epoch 22/200\n",
            "62/62 [==============================] - 0s 3ms/step - loss: 0.4677 - accuracy: 0.7769\n",
            "Epoch 23/200\n",
            "62/62 [==============================] - 0s 3ms/step - loss: 0.4641 - accuracy: 0.7704\n",
            "Epoch 24/200\n",
            "62/62 [==============================] - 0s 3ms/step - loss: 0.4596 - accuracy: 0.7801\n",
            "Epoch 25/200\n",
            "62/62 [==============================] - 0s 3ms/step - loss: 0.4558 - accuracy: 0.7736\n",
            "Epoch 26/200\n",
            "62/62 [==============================] - 0s 3ms/step - loss: 0.4573 - accuracy: 0.7736\n",
            "Epoch 27/200\n",
            "62/62 [==============================] - 0s 3ms/step - loss: 0.4537 - accuracy: 0.7818\n",
            "Epoch 28/200\n",
            "62/62 [==============================] - 0s 3ms/step - loss: 0.4481 - accuracy: 0.7801\n",
            "Epoch 29/200\n",
            "62/62 [==============================] - 0s 3ms/step - loss: 0.4605 - accuracy: 0.7785\n",
            "Epoch 30/200\n",
            "62/62 [==============================] - 0s 3ms/step - loss: 0.4450 - accuracy: 0.7785\n",
            "Epoch 31/200\n",
            "62/62 [==============================] - 0s 3ms/step - loss: 0.4444 - accuracy: 0.7980\n",
            "Epoch 32/200\n",
            "62/62 [==============================] - 0s 3ms/step - loss: 0.4526 - accuracy: 0.7638\n",
            "Epoch 33/200\n",
            "62/62 [==============================] - 0s 3ms/step - loss: 0.4424 - accuracy: 0.7850\n",
            "Epoch 34/200\n",
            "62/62 [==============================] - 0s 3ms/step - loss: 0.4411 - accuracy: 0.7834\n",
            "Epoch 35/200\n",
            "62/62 [==============================] - 0s 3ms/step - loss: 0.4420 - accuracy: 0.7834\n",
            "Epoch 36/200\n",
            "62/62 [==============================] - 0s 4ms/step - loss: 0.4383 - accuracy: 0.7850\n",
            "Epoch 37/200\n",
            "62/62 [==============================] - 0s 3ms/step - loss: 0.4348 - accuracy: 0.7834\n",
            "Epoch 38/200\n",
            "62/62 [==============================] - 0s 3ms/step - loss: 0.4376 - accuracy: 0.7818\n",
            "Epoch 39/200\n",
            "62/62 [==============================] - 0s 3ms/step - loss: 0.4373 - accuracy: 0.7818\n",
            "Epoch 40/200\n",
            "62/62 [==============================] - 0s 3ms/step - loss: 0.4335 - accuracy: 0.7980\n",
            "Epoch 41/200\n",
            "62/62 [==============================] - 0s 3ms/step - loss: 0.4309 - accuracy: 0.7785\n",
            "Epoch 42/200\n",
            "62/62 [==============================] - 0s 3ms/step - loss: 0.4331 - accuracy: 0.7915\n",
            "Epoch 43/200\n",
            "62/62 [==============================] - 0s 3ms/step - loss: 0.4311 - accuracy: 0.7866\n",
            "Epoch 44/200\n",
            "62/62 [==============================] - 0s 3ms/step - loss: 0.4284 - accuracy: 0.7883\n",
            "Epoch 45/200\n",
            "62/62 [==============================] - 0s 3ms/step - loss: 0.4308 - accuracy: 0.7850\n",
            "Epoch 46/200\n",
            "62/62 [==============================] - 0s 3ms/step - loss: 0.4262 - accuracy: 0.7850\n",
            "Epoch 47/200\n",
            "62/62 [==============================] - 0s 3ms/step - loss: 0.4285 - accuracy: 0.7948\n",
            "Epoch 48/200\n",
            "62/62 [==============================] - 0s 3ms/step - loss: 0.4300 - accuracy: 0.7948\n",
            "Epoch 49/200\n",
            "62/62 [==============================] - 0s 3ms/step - loss: 0.4286 - accuracy: 0.7883\n",
            "Epoch 50/200\n",
            "62/62 [==============================] - 0s 3ms/step - loss: 0.4288 - accuracy: 0.8013\n",
            "Epoch 51/200\n",
            "62/62 [==============================] - 0s 3ms/step - loss: 0.4261 - accuracy: 0.7915\n",
            "Epoch 52/200\n",
            "62/62 [==============================] - 0s 3ms/step - loss: 0.4321 - accuracy: 0.7801\n",
            "Epoch 53/200\n",
            "62/62 [==============================] - 0s 3ms/step - loss: 0.4273 - accuracy: 0.7915\n",
            "Epoch 54/200\n",
            "62/62 [==============================] - 0s 4ms/step - loss: 0.4239 - accuracy: 0.7915\n",
            "Epoch 55/200\n",
            "62/62 [==============================] - 0s 3ms/step - loss: 0.4252 - accuracy: 0.7932\n",
            "Epoch 56/200\n",
            "62/62 [==============================] - 0s 3ms/step - loss: 0.4232 - accuracy: 0.7915\n",
            "Epoch 57/200\n",
            "62/62 [==============================] - 0s 3ms/step - loss: 0.4242 - accuracy: 0.7997\n",
            "Epoch 58/200\n",
            "62/62 [==============================] - 0s 3ms/step - loss: 0.4251 - accuracy: 0.7932\n",
            "Epoch 59/200\n",
            "62/62 [==============================] - 0s 3ms/step - loss: 0.4199 - accuracy: 0.7883\n",
            "Epoch 60/200\n",
            "62/62 [==============================] - 0s 3ms/step - loss: 0.4260 - accuracy: 0.8013\n",
            "Epoch 61/200\n",
            "62/62 [==============================] - 0s 3ms/step - loss: 0.4281 - accuracy: 0.7997\n",
            "Epoch 62/200\n",
            "62/62 [==============================] - 0s 3ms/step - loss: 0.4268 - accuracy: 0.7932\n",
            "Epoch 63/200\n",
            "62/62 [==============================] - 0s 3ms/step - loss: 0.4269 - accuracy: 0.7964\n",
            "Epoch 64/200\n",
            "62/62 [==============================] - 0s 3ms/step - loss: 0.4198 - accuracy: 0.7915\n",
            "Epoch 65/200\n",
            "62/62 [==============================] - 0s 3ms/step - loss: 0.4208 - accuracy: 0.7964\n",
            "Epoch 66/200\n",
            "62/62 [==============================] - 0s 5ms/step - loss: 0.4203 - accuracy: 0.7980\n",
            "Epoch 67/200\n",
            "62/62 [==============================] - 0s 4ms/step - loss: 0.4217 - accuracy: 0.7932\n",
            "Epoch 68/200\n",
            "62/62 [==============================] - 0s 4ms/step - loss: 0.4214 - accuracy: 0.7899\n",
            "Epoch 69/200\n",
            "62/62 [==============================] - 0s 5ms/step - loss: 0.4181 - accuracy: 0.8013\n",
            "Epoch 70/200\n",
            "62/62 [==============================] - 0s 4ms/step - loss: 0.4224 - accuracy: 0.7899\n",
            "Epoch 71/200\n",
            "62/62 [==============================] - 0s 4ms/step - loss: 0.4195 - accuracy: 0.7915\n",
            "Epoch 72/200\n",
            "62/62 [==============================] - 0s 5ms/step - loss: 0.4197 - accuracy: 0.7948\n",
            "Epoch 73/200\n",
            "62/62 [==============================] - 0s 5ms/step - loss: 0.4224 - accuracy: 0.7980\n",
            "Epoch 74/200\n",
            "62/62 [==============================] - 0s 4ms/step - loss: 0.4226 - accuracy: 0.7866\n",
            "Epoch 75/200\n",
            "62/62 [==============================] - 0s 3ms/step - loss: 0.4192 - accuracy: 0.7932\n",
            "Epoch 76/200\n",
            "62/62 [==============================] - 0s 4ms/step - loss: 0.4260 - accuracy: 0.7866\n",
            "Epoch 77/200\n",
            "62/62 [==============================] - 0s 4ms/step - loss: 0.4175 - accuracy: 0.8029\n",
            "Epoch 78/200\n",
            "62/62 [==============================] - 0s 3ms/step - loss: 0.4168 - accuracy: 0.7997\n",
            "Epoch 79/200\n",
            "62/62 [==============================] - 0s 3ms/step - loss: 0.4156 - accuracy: 0.7932\n",
            "Epoch 80/200\n",
            "62/62 [==============================] - 0s 3ms/step - loss: 0.4177 - accuracy: 0.7932\n",
            "Epoch 81/200\n",
            "62/62 [==============================] - 0s 3ms/step - loss: 0.4135 - accuracy: 0.8078\n",
            "Epoch 82/200\n",
            "62/62 [==============================] - 0s 4ms/step - loss: 0.4160 - accuracy: 0.7948\n",
            "Epoch 83/200\n",
            "62/62 [==============================] - 0s 3ms/step - loss: 0.4135 - accuracy: 0.7997\n",
            "Epoch 84/200\n",
            "62/62 [==============================] - 0s 3ms/step - loss: 0.4165 - accuracy: 0.7915\n",
            "Epoch 85/200\n",
            "62/62 [==============================] - 0s 3ms/step - loss: 0.4142 - accuracy: 0.7948\n",
            "Epoch 86/200\n",
            "62/62 [==============================] - 0s 3ms/step - loss: 0.4097 - accuracy: 0.8094\n",
            "Epoch 87/200\n",
            "62/62 [==============================] - 0s 3ms/step - loss: 0.4137 - accuracy: 0.8029\n",
            "Epoch 88/200\n",
            "62/62 [==============================] - 0s 6ms/step - loss: 0.4235 - accuracy: 0.7883\n",
            "Epoch 89/200\n",
            "62/62 [==============================] - 0s 5ms/step - loss: 0.4171 - accuracy: 0.7932\n",
            "Epoch 90/200\n",
            "62/62 [==============================] - 0s 5ms/step - loss: 0.4142 - accuracy: 0.7980\n",
            "Epoch 91/200\n",
            "62/62 [==============================] - 0s 6ms/step - loss: 0.4169 - accuracy: 0.7997\n",
            "Epoch 92/200\n",
            "62/62 [==============================] - 0s 5ms/step - loss: 0.4151 - accuracy: 0.8127\n",
            "Epoch 93/200\n",
            "62/62 [==============================] - 0s 6ms/step - loss: 0.4130 - accuracy: 0.8062\n",
            "Epoch 94/200\n",
            "62/62 [==============================] - 0s 6ms/step - loss: 0.4178 - accuracy: 0.8013\n",
            "Epoch 95/200\n",
            "62/62 [==============================] - 0s 6ms/step - loss: 0.4176 - accuracy: 0.7964\n",
            "Epoch 96/200\n",
            "62/62 [==============================] - 0s 4ms/step - loss: 0.4161 - accuracy: 0.8062\n",
            "Epoch 97/200\n",
            "62/62 [==============================] - 0s 3ms/step - loss: 0.4100 - accuracy: 0.7980\n",
            "Epoch 98/200\n",
            "62/62 [==============================] - 0s 3ms/step - loss: 0.4155 - accuracy: 0.7932\n",
            "Epoch 99/200\n",
            "62/62 [==============================] - 0s 3ms/step - loss: 0.4162 - accuracy: 0.7964\n",
            "Epoch 100/200\n",
            "62/62 [==============================] - 0s 3ms/step - loss: 0.4091 - accuracy: 0.8078\n",
            "Epoch 101/200\n",
            "62/62 [==============================] - 0s 3ms/step - loss: 0.4194 - accuracy: 0.7915\n",
            "Epoch 102/200\n",
            "62/62 [==============================] - 0s 3ms/step - loss: 0.4118 - accuracy: 0.8013\n",
            "Epoch 103/200\n",
            "62/62 [==============================] - 0s 3ms/step - loss: 0.4113 - accuracy: 0.7948\n",
            "Epoch 104/200\n",
            "62/62 [==============================] - 0s 3ms/step - loss: 0.4130 - accuracy: 0.8062\n",
            "Epoch 105/200\n",
            "62/62 [==============================] - 0s 3ms/step - loss: 0.4117 - accuracy: 0.8046\n",
            "Epoch 106/200\n",
            "62/62 [==============================] - 0s 3ms/step - loss: 0.4106 - accuracy: 0.8029\n",
            "Epoch 107/200\n",
            "62/62 [==============================] - 0s 3ms/step - loss: 0.4132 - accuracy: 0.7980\n",
            "Epoch 108/200\n",
            "62/62 [==============================] - 0s 3ms/step - loss: 0.4102 - accuracy: 0.8078\n",
            "Epoch 109/200\n",
            "62/62 [==============================] - 0s 3ms/step - loss: 0.4149 - accuracy: 0.8029\n",
            "Epoch 110/200\n",
            "62/62 [==============================] - 0s 3ms/step - loss: 0.4137 - accuracy: 0.7964\n",
            "Epoch 111/200\n",
            "62/62 [==============================] - 0s 3ms/step - loss: 0.4133 - accuracy: 0.8046\n",
            "Epoch 112/200\n",
            "62/62 [==============================] - 0s 3ms/step - loss: 0.4092 - accuracy: 0.8127\n",
            "Epoch 113/200\n",
            "62/62 [==============================] - 0s 3ms/step - loss: 0.4135 - accuracy: 0.7899\n",
            "Epoch 114/200\n",
            "62/62 [==============================] - 0s 4ms/step - loss: 0.4080 - accuracy: 0.7964\n",
            "Epoch 115/200\n",
            "62/62 [==============================] - 0s 4ms/step - loss: 0.4129 - accuracy: 0.8029\n",
            "Epoch 116/200\n",
            "62/62 [==============================] - 0s 6ms/step - loss: 0.4130 - accuracy: 0.7997\n",
            "Epoch 117/200\n",
            "62/62 [==============================] - 0s 5ms/step - loss: 0.4096 - accuracy: 0.7997\n",
            "Epoch 118/200\n",
            "62/62 [==============================] - 0s 4ms/step - loss: 0.4121 - accuracy: 0.7883\n",
            "Epoch 119/200\n",
            "62/62 [==============================] - 0s 4ms/step - loss: 0.4044 - accuracy: 0.8111\n",
            "Epoch 120/200\n",
            "62/62 [==============================] - 0s 5ms/step - loss: 0.4109 - accuracy: 0.8078\n",
            "Epoch 121/200\n",
            "62/62 [==============================] - 0s 5ms/step - loss: 0.4071 - accuracy: 0.8013\n",
            "Epoch 122/200\n",
            "62/62 [==============================] - 0s 4ms/step - loss: 0.4054 - accuracy: 0.8160\n",
            "Epoch 123/200\n",
            "62/62 [==============================] - 0s 5ms/step - loss: 0.4109 - accuracy: 0.8111\n",
            "Epoch 124/200\n",
            "62/62 [==============================] - 0s 5ms/step - loss: 0.4066 - accuracy: 0.8029\n",
            "Epoch 125/200\n",
            "62/62 [==============================] - 0s 4ms/step - loss: 0.4101 - accuracy: 0.7932\n",
            "Epoch 126/200\n",
            "62/62 [==============================] - 0s 4ms/step - loss: 0.4052 - accuracy: 0.7948\n",
            "Epoch 127/200\n",
            "62/62 [==============================] - 0s 6ms/step - loss: 0.4081 - accuracy: 0.7980\n",
            "Epoch 128/200\n",
            "62/62 [==============================] - 0s 6ms/step - loss: 0.4064 - accuracy: 0.8029\n",
            "Epoch 129/200\n",
            "62/62 [==============================] - 0s 6ms/step - loss: 0.4083 - accuracy: 0.8094\n",
            "Epoch 130/200\n",
            "62/62 [==============================] - 0s 6ms/step - loss: 0.4053 - accuracy: 0.8013\n",
            "Epoch 131/200\n",
            "62/62 [==============================] - 0s 7ms/step - loss: 0.4077 - accuracy: 0.8078\n",
            "Epoch 132/200\n",
            "62/62 [==============================] - 0s 6ms/step - loss: 0.4070 - accuracy: 0.8029\n",
            "Epoch 133/200\n",
            "62/62 [==============================] - 0s 4ms/step - loss: 0.4017 - accuracy: 0.8241\n",
            "Epoch 134/200\n",
            "62/62 [==============================] - 0s 7ms/step - loss: 0.4052 - accuracy: 0.8046\n",
            "Epoch 135/200\n",
            "62/62 [==============================] - 0s 6ms/step - loss: 0.4086 - accuracy: 0.8046\n",
            "Epoch 136/200\n",
            "62/62 [==============================] - 0s 6ms/step - loss: 0.4080 - accuracy: 0.8029\n",
            "Epoch 137/200\n",
            "62/62 [==============================] - 0s 5ms/step - loss: 0.4057 - accuracy: 0.8046\n",
            "Epoch 138/200\n",
            "62/62 [==============================] - 0s 5ms/step - loss: 0.4030 - accuracy: 0.8062\n",
            "Epoch 139/200\n",
            "62/62 [==============================] - 0s 5ms/step - loss: 0.4059 - accuracy: 0.7980\n",
            "Epoch 140/200\n",
            "62/62 [==============================] - 0s 5ms/step - loss: 0.4020 - accuracy: 0.8013\n",
            "Epoch 141/200\n",
            "62/62 [==============================] - 0s 5ms/step - loss: 0.4039 - accuracy: 0.8029\n",
            "Epoch 142/200\n",
            "62/62 [==============================] - 0s 3ms/step - loss: 0.4088 - accuracy: 0.8029\n",
            "Epoch 143/200\n",
            "62/62 [==============================] - 0s 6ms/step - loss: 0.4017 - accuracy: 0.8046\n",
            "Epoch 144/200\n",
            "62/62 [==============================] - 0s 7ms/step - loss: 0.4037 - accuracy: 0.8111\n",
            "Epoch 145/200\n",
            "62/62 [==============================] - 0s 6ms/step - loss: 0.4008 - accuracy: 0.7980\n",
            "Epoch 146/200\n",
            "62/62 [==============================] - 0s 5ms/step - loss: 0.3997 - accuracy: 0.7964\n",
            "Epoch 147/200\n",
            "62/62 [==============================] - 0s 5ms/step - loss: 0.4029 - accuracy: 0.8078\n",
            "Epoch 148/200\n",
            "62/62 [==============================] - 0s 4ms/step - loss: 0.4047 - accuracy: 0.7997\n",
            "Epoch 149/200\n",
            "62/62 [==============================] - 0s 6ms/step - loss: 0.4068 - accuracy: 0.8062\n",
            "Epoch 150/200\n",
            "62/62 [==============================] - 0s 4ms/step - loss: 0.4021 - accuracy: 0.8078\n",
            "Epoch 151/200\n",
            "62/62 [==============================] - 0s 5ms/step - loss: 0.4079 - accuracy: 0.8046\n",
            "Epoch 152/200\n",
            "62/62 [==============================] - 0s 6ms/step - loss: 0.4024 - accuracy: 0.8192\n",
            "Epoch 153/200\n",
            "62/62 [==============================] - 0s 6ms/step - loss: 0.4026 - accuracy: 0.8062\n",
            "Epoch 154/200\n",
            "62/62 [==============================] - 0s 7ms/step - loss: 0.4011 - accuracy: 0.7997\n",
            "Epoch 155/200\n",
            "62/62 [==============================] - 0s 7ms/step - loss: 0.4033 - accuracy: 0.8046\n",
            "Epoch 156/200\n",
            "62/62 [==============================] - 0s 7ms/step - loss: 0.4028 - accuracy: 0.8127\n",
            "Epoch 157/200\n",
            "62/62 [==============================] - 0s 6ms/step - loss: 0.3988 - accuracy: 0.8046\n",
            "Epoch 158/200\n",
            "62/62 [==============================] - 1s 9ms/step - loss: 0.3996 - accuracy: 0.8111\n",
            "Epoch 159/200\n",
            "62/62 [==============================] - 1s 11ms/step - loss: 0.3991 - accuracy: 0.8029\n",
            "Epoch 160/200\n",
            "62/62 [==============================] - 0s 7ms/step - loss: 0.4001 - accuracy: 0.8143\n",
            "Epoch 161/200\n",
            "62/62 [==============================] - 0s 6ms/step - loss: 0.4061 - accuracy: 0.8078\n",
            "Epoch 162/200\n",
            "62/62 [==============================] - 0s 6ms/step - loss: 0.4069 - accuracy: 0.8111\n",
            "Epoch 163/200\n",
            "62/62 [==============================] - 0s 5ms/step - loss: 0.4027 - accuracy: 0.8062\n",
            "Epoch 164/200\n",
            "62/62 [==============================] - 0s 6ms/step - loss: 0.3991 - accuracy: 0.8029\n",
            "Epoch 165/200\n",
            "62/62 [==============================] - 0s 4ms/step - loss: 0.3977 - accuracy: 0.8062\n",
            "Epoch 166/200\n",
            "62/62 [==============================] - 0s 6ms/step - loss: 0.3974 - accuracy: 0.8111\n",
            "Epoch 167/200\n",
            "62/62 [==============================] - 0s 6ms/step - loss: 0.3986 - accuracy: 0.8078\n",
            "Epoch 168/200\n",
            "62/62 [==============================] - 0s 7ms/step - loss: 0.3953 - accuracy: 0.8143\n",
            "Epoch 169/200\n",
            "62/62 [==============================] - 0s 6ms/step - loss: 0.4004 - accuracy: 0.8078\n",
            "Epoch 170/200\n",
            "62/62 [==============================] - 0s 6ms/step - loss: 0.4076 - accuracy: 0.7932\n",
            "Epoch 171/200\n",
            "62/62 [==============================] - 0s 6ms/step - loss: 0.3961 - accuracy: 0.8094\n",
            "Epoch 172/200\n",
            "62/62 [==============================] - 0s 6ms/step - loss: 0.3956 - accuracy: 0.8094\n",
            "Epoch 173/200\n",
            "62/62 [==============================] - 0s 6ms/step - loss: 0.3933 - accuracy: 0.8078\n",
            "Epoch 174/200\n",
            "62/62 [==============================] - 0s 5ms/step - loss: 0.3976 - accuracy: 0.8029\n",
            "Epoch 175/200\n",
            "62/62 [==============================] - 0s 3ms/step - loss: 0.3965 - accuracy: 0.8176\n",
            "Epoch 176/200\n",
            "62/62 [==============================] - 0s 4ms/step - loss: 0.3946 - accuracy: 0.8111\n",
            "Epoch 177/200\n",
            "62/62 [==============================] - 0s 3ms/step - loss: 0.3958 - accuracy: 0.8160\n",
            "Epoch 178/200\n",
            "62/62 [==============================] - 0s 4ms/step - loss: 0.4008 - accuracy: 0.8062\n",
            "Epoch 179/200\n",
            "62/62 [==============================] - 0s 3ms/step - loss: 0.3960 - accuracy: 0.8094\n",
            "Epoch 180/200\n",
            "62/62 [==============================] - 0s 4ms/step - loss: 0.4018 - accuracy: 0.8046\n",
            "Epoch 181/200\n",
            "62/62 [==============================] - 0s 3ms/step - loss: 0.3943 - accuracy: 0.8127\n",
            "Epoch 182/200\n",
            "62/62 [==============================] - 0s 4ms/step - loss: 0.3924 - accuracy: 0.8176\n",
            "Epoch 183/200\n",
            "62/62 [==============================] - 0s 4ms/step - loss: 0.3982 - accuracy: 0.8046\n",
            "Epoch 184/200\n",
            "62/62 [==============================] - 0s 4ms/step - loss: 0.3947 - accuracy: 0.8094\n",
            "Epoch 185/200\n",
            "62/62 [==============================] - 0s 4ms/step - loss: 0.3970 - accuracy: 0.8143\n",
            "Epoch 186/200\n",
            "62/62 [==============================] - 0s 3ms/step - loss: 0.3948 - accuracy: 0.8192\n",
            "Epoch 187/200\n",
            "62/62 [==============================] - 0s 3ms/step - loss: 0.3969 - accuracy: 0.8160\n",
            "Epoch 188/200\n",
            "62/62 [==============================] - 0s 3ms/step - loss: 0.3889 - accuracy: 0.8046\n",
            "Epoch 189/200\n",
            "62/62 [==============================] - 0s 3ms/step - loss: 0.3945 - accuracy: 0.8094\n",
            "Epoch 190/200\n",
            "62/62 [==============================] - 0s 6ms/step - loss: 0.3941 - accuracy: 0.8143\n",
            "Epoch 191/200\n",
            "62/62 [==============================] - 0s 5ms/step - loss: 0.3941 - accuracy: 0.8160\n",
            "Epoch 192/200\n",
            "62/62 [==============================] - 0s 6ms/step - loss: 0.3926 - accuracy: 0.8094\n",
            "Epoch 193/200\n",
            "62/62 [==============================] - 0s 6ms/step - loss: 0.3971 - accuracy: 0.8078\n",
            "Epoch 194/200\n",
            "62/62 [==============================] - 0s 7ms/step - loss: 0.3928 - accuracy: 0.8127\n",
            "Epoch 195/200\n",
            "62/62 [==============================] - 0s 5ms/step - loss: 0.3919 - accuracy: 0.8143\n",
            "Epoch 196/200\n",
            "62/62 [==============================] - 0s 5ms/step - loss: 0.3966 - accuracy: 0.8160\n",
            "Epoch 197/200\n",
            "62/62 [==============================] - 0s 5ms/step - loss: 0.3937 - accuracy: 0.8143\n",
            "Epoch 198/200\n",
            "62/62 [==============================] - 0s 5ms/step - loss: 0.3932 - accuracy: 0.8078\n",
            "Epoch 199/200\n",
            "62/62 [==============================] - 0s 5ms/step - loss: 0.3911 - accuracy: 0.8111\n",
            "Epoch 200/200\n",
            "62/62 [==============================] - 0s 4ms/step - loss: 0.3940 - accuracy: 0.8257\n"
          ]
        },
        {
          "output_type": "execute_result",
          "data": {
            "text/plain": [
              "<keras.callbacks.History at 0x7f848305efb0>"
            ]
          },
          "metadata": {},
          "execution_count": 45
        }
      ],
      "source": [
        "model.fit(x_train, y_train,batch_size=10,epochs=200)"
      ]
    },
    {
      "cell_type": "code",
      "execution_count": 46,
      "id": "bfa79dc2",
      "metadata": {
        "execution": {
          "iopub.execute_input": "2022-10-15T05:26:07.929212Z",
          "iopub.status.busy": "2022-10-15T05:26:07.928796Z",
          "iopub.status.idle": "2022-10-15T05:26:08.169742Z",
          "shell.execute_reply": "2022-10-15T05:26:08.168484Z"
        },
        "id": "bfa79dc2",
        "outputId": "c6c58aec-4450-4793-e6cc-05c30c5084da",
        "papermill": {
          "duration": 0.298267,
          "end_time": "2022-10-15T05:26:08.171996",
          "exception": false,
          "start_time": "2022-10-15T05:26:07.873729",
          "status": "completed"
        },
        "tags": [],
        "colab": {
          "base_uri": "https://localhost:8080/",
          "height": 447
        }
      },
      "outputs": [
        {
          "output_type": "execute_result",
          "data": {
            "text/plain": [
              "<Axes: >"
            ]
          },
          "metadata": {},
          "execution_count": 46
        },
        {
          "output_type": "display_data",
          "data": {
            "text/plain": [
              "<Figure size 640x480 with 1 Axes>"
            ],
            "image/png": "[encoded data removed]"
          },
          "metadata": {}
        }
      ],
      "source": [
        "model_hist = pd.DataFrame(model.history.history)\n",
        "model_hist.plot()"
      ]
    },
    {
      "cell_type": "code",
      "execution_count": 47,
      "id": "1b467120",
      "metadata": {
        "execution": {
          "iopub.execute_input": "2022-10-15T05:26:08.281058Z",
          "iopub.status.busy": "2022-10-15T05:26:08.280620Z",
          "iopub.status.idle": "2022-10-15T05:26:08.286129Z",
          "shell.execute_reply": "2022-10-15T05:26:08.285015Z"
        },
        "id": "1b467120",
        "papermill": {
          "duration": 0.062822,
          "end_time": "2022-10-15T05:26:08.288468",
          "exception": false,
          "start_time": "2022-10-15T05:26:08.225646",
          "status": "completed"
        },
        "tags": []
      },
      "outputs": [],
      "source": [
        "from sklearn.metrics import confusion_matrix,accuracy_score"
      ]
    },
    {
      "cell_type": "code",
      "execution_count": 48,
      "id": "598d9bec",
      "metadata": {
        "execution": {
          "iopub.execute_input": "2022-10-15T05:26:08.399969Z",
          "iopub.status.busy": "2022-10-15T05:26:08.399524Z",
          "iopub.status.idle": "2022-10-15T05:26:08.544383Z",
          "shell.execute_reply": "2022-10-15T05:26:08.543314Z"
        },
        "id": "598d9bec",
        "outputId": "51512c0f-7bc7-4796-9dcd-af13ad68556d",
        "papermill": {
          "duration": 0.203097,
          "end_time": "2022-10-15T05:26:08.547034",
          "exception": false,
          "start_time": "2022-10-15T05:26:08.343937",
          "status": "completed"
        },
        "tags": [],
        "colab": {
          "base_uri": "https://localhost:8080/"
        }
      },
      "outputs": [
        {
          "output_type": "stream",
          "name": "stdout",
          "text": [
            "5/5 [==============================] - 0s 2ms/step\n"
          ]
        }
      ],
      "source": [
        "prediction = model.predict(x_test)\n",
        "prediction  = [1 if y>=0.5 else 0 for y in prediction] \n"
      ]
    },
    {
      "cell_type": "code",
      "execution_count": 49,
      "id": "1d8c1770",
      "metadata": {
        "execution": {
          "iopub.execute_input": "2022-10-15T05:26:08.656704Z",
          "iopub.status.busy": "2022-10-15T05:26:08.655455Z",
          "iopub.status.idle": "2022-10-15T05:26:08.667252Z",
          "shell.execute_reply": "2022-10-15T05:26:08.665819Z"
        },
        "id": "1d8c1770",
        "outputId": "fb9cf04f-0960-4c9e-98f3-eb36f5bddd6c",
        "papermill": {
          "duration": 0.069242,
          "end_time": "2022-10-15T05:26:08.669861",
          "exception": false,
          "start_time": "2022-10-15T05:26:08.600619",
          "status": "completed"
        },
        "tags": [],
        "colab": {
          "base_uri": "https://localhost:8080/"
        }
      },
      "outputs": [
        {
          "output_type": "stream",
          "name": "stdout",
          "text": [
            "              precision    recall  f1-score   support\n",
            "\n",
            "           0       0.79      0.81      0.80        99\n",
            "           1       0.64      0.62      0.63        55\n",
            "\n",
            "    accuracy                           0.74       154\n",
            "   macro avg       0.72      0.71      0.71       154\n",
            "weighted avg       0.74      0.74      0.74       154\n",
            "\n"
          ]
        }
      ],
      "source": [
        "from sklearn.metrics import classification_report,confusion_matrix\n",
        "print(classification_report(y_test,prediction))"
      ]
    }
  ],
  "metadata": {
    "kernelspec": {
      "display_name": "Python 3",
      "language": "python",
      "name": "python3"
    },
    "language_info": {
      "codemirror_mode": {
        "name": "ipython",
        "version": 3
      },
      "file_extension": ".py",
      "mimetype": "text/x-python",
      "name": "python",
      "nbconvert_exporter": "python",
      "pygments_lexer": "ipython3",
      "version": "3.7.12"
    },
    "papermill": {
      "default_parameters": {},
      "duration": 45.011487,
      "end_time": "2022-10-15T05:26:12.681922",
      "environment_variables": {},
      "exception": null,
      "input_path": "__notebook__.ipynb",
      "output_path": "__notebook__.ipynb",
      "parameters": {},
      "start_time": "2022-10-15T05:25:27.670435",
      "version": "2.3.4"
    },
    "colab": {
      "provenance": [],
      "gpuType": "T4",
      "include_colab_link": true
    },
    "accelerator": "GPU",
    "gpuClass": "standard"
  },
  "nbformat": 4,
  "nbformat_minor": 5
}